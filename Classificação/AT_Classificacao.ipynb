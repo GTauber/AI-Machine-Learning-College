{
 "cells": [
  {
   "cell_type": "markdown",
   "metadata": {},
   "source": [
    "# Assessment de Inteligência Artificial: Classificação\n",
    "\n",
    "## Análise de Dataset de Diamantes"
   ]
  },
  {
   "cell_type": "markdown",
   "metadata": {},
   "source": "## 1. Carregamento e Preparação dos Dados"
  },
  {
   "cell_type": "code",
   "metadata": {
    "ExecuteTime": {
     "end_time": "2025-09-19T11:02:13.065716Z",
     "start_time": "2025-09-19T11:02:12.754294Z"
    }
   },
   "source": [
    "import pandas as pd\n",
    "import numpy as np\n",
    "import matplotlib.pyplot as plt\n",
    "import seaborn as sns\n",
    "from sklearn.model_selection import train_test_split, GridSearchCV\n",
    "from sklearn.preprocessing import StandardScaler\n",
    "from sklearn.tree import DecisionTreeClassifier\n",
    "from sklearn.ensemble import RandomForestClassifier\n",
    "from sklearn.svm import SVC\n",
    "from sklearn.metrics import classification_report, confusion_matrix\n",
    "import xgboost as xgb\n",
    "import warnings\n",
    "warnings.filterwarnings('ignore')"
   ],
   "outputs": [],
   "execution_count": 1
  },
  {
   "cell_type": "markdown",
   "metadata": {},
   "source": [
    "### Carregamento do dataset"
   ]
  },
  {
   "cell_type": "code",
   "metadata": {
    "ExecuteTime": {
     "end_time": "2025-09-19T11:02:13.333049Z",
     "start_time": "2025-09-19T11:02:13.070357Z"
    }
   },
   "source": [
    "url = 'https://raw.githubusercontent.com/cassiusf/datasets/main/diamonds.csv'\n",
    "df = pd.read_csv(url)\n",
    "\n",
    "print(f\"Dimensões do dataset: {df.shape}\")\n",
    "print(f\"\\nPrimeiras linhas:\")\n",
    "df.head()"
   ],
   "outputs": [
    {
     "name": "stdout",
     "output_type": "stream",
     "text": [
      "Dimensões do dataset: (35342, 10)\n",
      "\n",
      "Primeiras linhas:\n"
     ]
    },
    {
     "data": {
      "text/plain": [
       "   carat      cut color clarity  depth  table  price     x     y     z\n",
       "0   0.23    Ideal     E     SI2   61.5   55.0    326  3.95  3.98  2.43\n",
       "1   0.21  Premium     E     SI1   59.8   61.0    326  3.89  3.84  2.31\n",
       "2   0.29  Premium     I     VS2   62.4   58.0    334  4.20  4.23  2.63\n",
       "3   0.23    Ideal     J     VS1   62.8   56.0    340  3.93  3.90  2.46\n",
       "4   0.22  Premium     F     SI1   60.4   61.0    342  3.88  3.84  2.33"
      ],
      "text/html": [
       "<div>\n",
       "<style scoped>\n",
       "    .dataframe tbody tr th:only-of-type {\n",
       "        vertical-align: middle;\n",
       "    }\n",
       "\n",
       "    .dataframe tbody tr th {\n",
       "        vertical-align: top;\n",
       "    }\n",
       "\n",
       "    .dataframe thead th {\n",
       "        text-align: right;\n",
       "    }\n",
       "</style>\n",
       "<table border=\"1\" class=\"dataframe\">\n",
       "  <thead>\n",
       "    <tr style=\"text-align: right;\">\n",
       "      <th></th>\n",
       "      <th>carat</th>\n",
       "      <th>cut</th>\n",
       "      <th>color</th>\n",
       "      <th>clarity</th>\n",
       "      <th>depth</th>\n",
       "      <th>table</th>\n",
       "      <th>price</th>\n",
       "      <th>x</th>\n",
       "      <th>y</th>\n",
       "      <th>z</th>\n",
       "    </tr>\n",
       "  </thead>\n",
       "  <tbody>\n",
       "    <tr>\n",
       "      <th>0</th>\n",
       "      <td>0.23</td>\n",
       "      <td>Ideal</td>\n",
       "      <td>E</td>\n",
       "      <td>SI2</td>\n",
       "      <td>61.5</td>\n",
       "      <td>55.0</td>\n",
       "      <td>326</td>\n",
       "      <td>3.95</td>\n",
       "      <td>3.98</td>\n",
       "      <td>2.43</td>\n",
       "    </tr>\n",
       "    <tr>\n",
       "      <th>1</th>\n",
       "      <td>0.21</td>\n",
       "      <td>Premium</td>\n",
       "      <td>E</td>\n",
       "      <td>SI1</td>\n",
       "      <td>59.8</td>\n",
       "      <td>61.0</td>\n",
       "      <td>326</td>\n",
       "      <td>3.89</td>\n",
       "      <td>3.84</td>\n",
       "      <td>2.31</td>\n",
       "    </tr>\n",
       "    <tr>\n",
       "      <th>2</th>\n",
       "      <td>0.29</td>\n",
       "      <td>Premium</td>\n",
       "      <td>I</td>\n",
       "      <td>VS2</td>\n",
       "      <td>62.4</td>\n",
       "      <td>58.0</td>\n",
       "      <td>334</td>\n",
       "      <td>4.20</td>\n",
       "      <td>4.23</td>\n",
       "      <td>2.63</td>\n",
       "    </tr>\n",
       "    <tr>\n",
       "      <th>3</th>\n",
       "      <td>0.23</td>\n",
       "      <td>Ideal</td>\n",
       "      <td>J</td>\n",
       "      <td>VS1</td>\n",
       "      <td>62.8</td>\n",
       "      <td>56.0</td>\n",
       "      <td>340</td>\n",
       "      <td>3.93</td>\n",
       "      <td>3.90</td>\n",
       "      <td>2.46</td>\n",
       "    </tr>\n",
       "    <tr>\n",
       "      <th>4</th>\n",
       "      <td>0.22</td>\n",
       "      <td>Premium</td>\n",
       "      <td>F</td>\n",
       "      <td>SI1</td>\n",
       "      <td>60.4</td>\n",
       "      <td>61.0</td>\n",
       "      <td>342</td>\n",
       "      <td>3.88</td>\n",
       "      <td>3.84</td>\n",
       "      <td>2.33</td>\n",
       "    </tr>\n",
       "  </tbody>\n",
       "</table>\n",
       "</div>"
      ]
     },
     "execution_count": 2,
     "metadata": {},
     "output_type": "execute_result"
    }
   ],
   "execution_count": 2
  },
  {
   "cell_type": "markdown",
   "metadata": {},
   "source": [
    "### 1.a Transformar clarity e color em variáveis dummy"
   ]
  },
  {
   "cell_type": "code",
   "metadata": {
    "ExecuteTime": {
     "end_time": "2025-09-19T11:02:13.367966Z",
     "start_time": "2025-09-19T11:02:13.361295Z"
    }
   },
   "source": [
    "df_dummies = pd.get_dummies(df, columns=['clarity', 'color'], drop_first=True)\n",
    "print(f\"Novas dimensões após criar dummies: {df_dummies.shape}\")\n",
    "print(f\"\\nColunas do dataset:\")\n",
    "print(df_dummies.columns.tolist())"
   ],
   "outputs": [
    {
     "name": "stdout",
     "output_type": "stream",
     "text": [
      "Novas dimensões após criar dummies: (35342, 21)\n",
      "\n",
      "Colunas do dataset:\n",
      "['carat', 'cut', 'depth', 'table', 'price', 'x', 'y', 'z', 'clarity_IF', 'clarity_SI1', 'clarity_SI2', 'clarity_VS1', 'clarity_VS2', 'clarity_VVS1', 'clarity_VVS2', 'color_E', 'color_F', 'color_G', 'color_H', 'color_I', 'color_J']\n"
     ]
    }
   ],
   "execution_count": 3
  },
  {
   "cell_type": "markdown",
   "metadata": {},
   "source": [
    "### 1.b Visualizar distribuição da variável-alvo (cut)"
   ]
  },
  {
   "cell_type": "code",
   "metadata": {
    "ExecuteTime": {
     "end_time": "2025-09-19T11:02:13.495282Z",
     "start_time": "2025-09-19T11:02:13.426963Z"
    }
   },
   "source": [
    "plt.figure(figsize=(10, 6))\n",
    "cut_counts = df_dummies['cut'].value_counts()\n",
    "plt.bar(cut_counts.index, cut_counts.values, color='steelblue')\n",
    "plt.xlabel('Qualidade do Corte')\n",
    "plt.ylabel('Quantidade')\n",
    "plt.title('Distribuição da Variável Cut (Qualidade do Corte)')\n",
    "plt.xticks(rotation=45)\n",
    "\n",
    "for i, v in enumerate(cut_counts.values):\n",
    "    plt.text(i, v + 200, str(v), ha='center')\n",
    "\n",
    "plt.tight_layout()\n",
    "plt.show()\n",
    "\n",
    "print(\"Distribuição percentual:\")\n",
    "print(df_dummies['cut'].value_counts(normalize=True) * 100)"
   ],
   "outputs": [
    {
     "data": {
      "text/plain": [
       "<Figure size 1000x600 with 1 Axes>"
      ],
      "image/png": "[encoded data removed]"
     },
     "metadata": {},
     "output_type": "display_data",
     "jetTransient": {
      "display_id": null
     }
    },
    {
     "name": "stdout",
     "output_type": "stream",
     "text": [
      "Distribuição percentual:\n",
      "cut\n",
      "Ideal      60.978439\n",
      "Premium    39.021561\n",
      "Name: proportion, dtype: float64\n"
     ]
    }
   ],
   "execution_count": 4
  },
  {
   "cell_type": "markdown",
   "metadata": {},
   "source": "### 1.c Recodificar a variável alvo\n"
  },
  {
   "cell_type": "code",
   "metadata": {
    "ExecuteTime": {
     "end_time": "2025-09-19T11:02:13.509516Z",
     "start_time": "2025-09-19T11:02:13.505451Z"
    }
   },
   "source": "cut_mapping = {\n    'Ideal': 0,\n    'Premium': 1\n}\n\ndf_dummies['cut'] = df_dummies['cut'].map(cut_mapping)\nprint(\"Valores únicos após recodificação:\")\nprint(df_dummies['cut'].unique())\nprint(\"\\nDistribuição após recodificação:\")\nprint(df_dummies['cut'].value_counts().sort_index())",
   "outputs": [
    {
     "name": "stdout",
     "output_type": "stream",
     "text": [
      "Valores únicos após recodificação:\n",
      "[0 1]\n",
      "\n",
      "Distribuição após recodificação:\n",
      "cut\n",
      "0    21551\n",
      "1    13791\n",
      "Name: count, dtype: int64\n"
     ]
    }
   ],
   "execution_count": 5
  },
  {
   "cell_type": "markdown",
   "metadata": {},
   "source": [
    "## 2. Separação de Variáveis"
   ]
  },
  {
   "cell_type": "code",
   "metadata": {
    "ExecuteTime": {
     "end_time": "2025-09-19T11:02:13.519452Z",
     "start_time": "2025-09-19T11:02:13.516757Z"
    }
   },
   "source": [
    "X = df_dummies.drop('cut', axis=1)\n",
    "y = df_dummies['cut']\n",
    "\n",
    "print(f\"Dimensões de X: {X.shape}\")\n",
    "print(f\"Dimensões de y: {y.shape}\")"
   ],
   "outputs": [
    {
     "name": "stdout",
     "output_type": "stream",
     "text": [
      "Dimensões de X: (35342, 20)\n",
      "Dimensões de y: (35342,)\n"
     ]
    }
   ],
   "execution_count": 6
  },
  {
   "cell_type": "markdown",
   "metadata": {},
   "source": [
    "## 3. Escalonamento dos Dados"
   ]
  },
  {
   "cell_type": "code",
   "metadata": {
    "ExecuteTime": {
     "end_time": "2025-09-19T11:02:13.544038Z",
     "start_time": "2025-09-19T11:02:13.522245Z"
    }
   },
   "source": [
    "scaler = StandardScaler()\n",
    "X_scaled = scaler.fit_transform(X)\n",
    "\n",
    "print(\"Dados escalonados com StandardScaler\")\n",
    "print(f\"Média das features após escalonamento: {np.mean(X_scaled, axis=0).mean():.6f}\")\n",
    "print(f\"Desvio padrão das features após escalonamento: {np.std(X_scaled, axis=0).mean():.6f}\")"
   ],
   "outputs": [
    {
     "name": "stdout",
     "output_type": "stream",
     "text": [
      "Dados escalonados com StandardScaler\n",
      "Média das features após escalonamento: 0.000000\n",
      "Desvio padrão das features após escalonamento: 1.000000\n"
     ]
    }
   ],
   "execution_count": 7
  },
  {
   "cell_type": "markdown",
   "metadata": {},
   "source": [
    "## 4. Separação em Treino e Teste (75-25%)"
   ]
  },
  {
   "cell_type": "code",
   "metadata": {
    "ExecuteTime": {
     "end_time": "2025-09-19T11:02:13.556116Z",
     "start_time": "2025-09-19T11:02:13.546928Z"
    }
   },
   "source": [
    "X_train, X_test, y_train, y_test = train_test_split(\n",
    "    X_scaled, y, test_size=0.25, random_state=42, stratify=y\n",
    ")\n",
    "\n",
    "print(f\"Tamanho do conjunto de treino: {X_train.shape}\")\n",
    "print(f\"Tamanho do conjunto de teste: {X_test.shape}\")\n",
    "print(f\"\\nProporção de treino: {len(X_train)/len(X_scaled)*100:.1f}%\")\n",
    "print(f\"Proporção de teste: {len(X_test)/len(X_scaled)*100:.1f}%\")"
   ],
   "outputs": [
    {
     "name": "stdout",
     "output_type": "stream",
     "text": [
      "Tamanho do conjunto de treino: (26506, 20)\n",
      "Tamanho do conjunto de teste: (8836, 20)\n",
      "\n",
      "Proporção de treino: 75.0%\n",
      "Proporção de teste: 25.0%\n"
     ]
    }
   ],
   "execution_count": 8
  },
  {
   "cell_type": "markdown",
   "metadata": {},
   "source": [
    "## 5. Modelo de Árvore de Decisão"
   ]
  },
  {
   "cell_type": "markdown",
   "metadata": {},
   "source": [
    "### 5.1 Treinamento e Predição"
   ]
  },
  {
   "cell_type": "code",
   "metadata": {
    "ExecuteTime": {
     "end_time": "2025-09-19T11:02:13.668499Z",
     "start_time": "2025-09-19T11:02:13.559120Z"
    }
   },
   "source": [
    "dt_model = DecisionTreeClassifier(random_state=42)\n",
    "dt_model.fit(X_train, y_train)\n",
    "y_pred_dt = dt_model.predict(X_test)\n",
    "\n",
    "print(\"Árvore de Decisão treinada com sucesso!\")"
   ],
   "outputs": [
    {
     "name": "stdout",
     "output_type": "stream",
     "text": [
      "Árvore de Decisão treinada com sucesso!\n"
     ]
    }
   ],
   "execution_count": 9
  },
  {
   "cell_type": "markdown",
   "metadata": {},
   "source": [
    "### 5.2 Matriz de Confusão"
   ]
  },
  {
   "cell_type": "code",
   "metadata": {
    "ExecuteTime": {
     "end_time": "2025-09-19T11:02:13.723248Z",
     "start_time": "2025-09-19T11:02:13.672720Z"
    }
   },
   "source": [
    "cm_dt = confusion_matrix(y_test, y_pred_dt)\n",
    "\n",
    "plt.figure(figsize=(8, 6))\n",
    "sns.heatmap(cm_dt, annot=True, fmt='d', cmap='Blues')\n",
    "plt.title('Matriz de Confusão - Árvore de Decisão')\n",
    "plt.ylabel('Valores Reais')\n",
    "plt.xlabel('Valores Preditos')\n",
    "plt.show()\n",
    "\n",
    "print(\"\\nMatriz de Confusão:\")\n",
    "print(cm_dt)"
   ],
   "outputs": [
    {
     "data": {
      "text/plain": [
       "<Figure size 800x600 with 2 Axes>"
      ],
      "image/png": "[encoded data removed]"
     },
     "metadata": {},
     "output_type": "display_data",
     "jetTransient": {
      "display_id": null
     }
    },
    {
     "name": "stdout",
     "output_type": "stream",
     "text": [
      "\n",
      "Matriz de Confusão:\n",
      "[[4843  545]\n",
      " [ 490 2958]]\n"
     ]
    }
   ],
   "execution_count": 10
  },
  {
   "cell_type": "markdown",
   "metadata": {},
   "source": [
    "### 5.3 Relatório de Classificação"
   ]
  },
  {
   "cell_type": "code",
   "metadata": {
    "ExecuteTime": {
     "end_time": "2025-09-19T11:02:13.748744Z",
     "start_time": "2025-09-19T11:02:13.741487Z"
    }
   },
   "source": [
    "print(\"Relatório de Classificação - Árvore de Decisão\\n\")\n",
    "print(classification_report(y_test, y_pred_dt))"
   ],
   "outputs": [
    {
     "name": "stdout",
     "output_type": "stream",
     "text": [
      "Relatório de Classificação - Árvore de Decisão\n",
      "\n",
      "              precision    recall  f1-score   support\n",
      "\n",
      "           0       0.91      0.90      0.90      5388\n",
      "           1       0.84      0.86      0.85      3448\n",
      "\n",
      "    accuracy                           0.88      8836\n",
      "   macro avg       0.88      0.88      0.88      8836\n",
      "weighted avg       0.88      0.88      0.88      8836\n",
      "\n"
     ]
    }
   ],
   "execution_count": 11
  },
  {
   "cell_type": "markdown",
   "metadata": {},
   "source": [
    "## 6. Random Forest - Modelo Padrão"
   ]
  },
  {
   "cell_type": "code",
   "metadata": {
    "ExecuteTime": {
     "end_time": "2025-09-19T11:02:15.487656Z",
     "start_time": "2025-09-19T11:02:13.766299Z"
    }
   },
   "source": [
    "rf_model = RandomForestClassifier(random_state=42)\n",
    "rf_model.fit(X_train, y_train)\n",
    "y_pred_rf = rf_model.predict(X_test)\n",
    "\n",
    "print(\"Relatório de Classificação - Random Forest (Padrão)\\n\")\n",
    "print(classification_report(y_test, y_pred_rf))"
   ],
   "outputs": [
    {
     "name": "stdout",
     "output_type": "stream",
     "text": [
      "Relatório de Classificação - Random Forest (Padrão)\n",
      "\n",
      "              precision    recall  f1-score   support\n",
      "\n",
      "           0       0.93      0.95      0.94      5388\n",
      "           1       0.91      0.88      0.90      3448\n",
      "\n",
      "    accuracy                           0.92      8836\n",
      "   macro avg       0.92      0.91      0.92      8836\n",
      "weighted avg       0.92      0.92      0.92      8836\n",
      "\n"
     ]
    }
   ],
   "execution_count": 12
  },
  {
   "cell_type": "markdown",
   "metadata": {},
   "source": [
    "## 7. GridSearch - Random Forest"
   ]
  },
  {
   "cell_type": "markdown",
   "metadata": {},
   "source": [
    "### Justificativa dos parâmetros escolhidos:\n",
    "- **n_estimators**: Número de árvores na floresta - mais árvores geralmente melhoram a performance\n",
    "- **max_depth**: Profundidade máxima das árvores - controla overfitting\n",
    "- **min_samples_split**: Mínimo de amostras para dividir um nó - evita divisões muito específicas"
   ]
  },
  {
   "cell_type": "code",
   "metadata": {
    "ExecuteTime": {
     "end_time": "2025-09-19T11:02:44.375667Z",
     "start_time": "2025-09-19T11:02:15.536699Z"
    }
   },
   "source": [
    "param_grid = {\n",
    "    'n_estimators': [50, 100, 200],\n",
    "    'max_depth': [10, 20, None],\n",
    "    'min_samples_split': [2, 5, 10]\n",
    "}\n",
    "\n",
    "rf_grid = RandomForestClassifier(random_state=42)\n",
    "grid_search = GridSearchCV(\n",
    "    rf_grid, \n",
    "    param_grid, \n",
    "    cv=5, \n",
    "    scoring='accuracy',\n",
    "    n_jobs=-1\n",
    ")\n",
    "\n",
    "print(\"Executando GridSearch...\")\n",
    "grid_search.fit(X_train, y_train)\n",
    "\n",
    "print(f\"\\nMelhores parâmetros encontrados:\")\n",
    "print(grid_search.best_params_)\n",
    "print(f\"\\nMelhor score de validação cruzada: {grid_search.best_score_:.4f}\")"
   ],
   "outputs": [
    {
     "name": "stdout",
     "output_type": "stream",
     "text": [
      "Executando GridSearch...\n",
      "\n",
      "Melhores parâmetros encontrados:\n",
      "{'max_depth': 20, 'min_samples_split': 2, 'n_estimators': 100}\n",
      "\n",
      "Melhor score de validação cruzada: 0.9210\n"
     ]
    }
   ],
   "execution_count": 13
  },
  {
   "cell_type": "markdown",
   "metadata": {},
   "source": [
    "### Executando modelo com melhores parâmetros"
   ]
  },
  {
   "cell_type": "code",
   "metadata": {
    "ExecuteTime": {
     "end_time": "2025-09-19T11:02:44.484283Z",
     "start_time": "2025-09-19T11:02:44.404259Z"
    }
   },
   "source": [
    "best_rf = grid_search.best_estimator_\n",
    "y_pred_best_rf = best_rf.predict(X_test)\n",
    "\n",
    "print(\"Relatório de Classificação - Random Forest (GridSearch)\\n\")\n",
    "print(classification_report(y_test, y_pred_best_rf))"
   ],
   "outputs": [
    {
     "name": "stdout",
     "output_type": "stream",
     "text": [
      "Relatório de Classificação - Random Forest (GridSearch)\n",
      "\n",
      "              precision    recall  f1-score   support\n",
      "\n",
      "           0       0.93      0.94      0.94      5388\n",
      "           1       0.91      0.88      0.90      3448\n",
      "\n",
      "    accuracy                           0.92      8836\n",
      "   macro avg       0.92      0.91      0.92      8836\n",
      "weighted avg       0.92      0.92      0.92      8836\n",
      "\n"
     ]
    }
   ],
   "execution_count": 14
  },
  {
   "cell_type": "markdown",
   "metadata": {},
   "source": [
    "## 8. XGBoost"
   ]
  },
  {
   "cell_type": "code",
   "metadata": {
    "ExecuteTime": {
     "end_time": "2025-09-19T11:02:44.638941Z",
     "start_time": "2025-09-19T11:02:44.487906Z"
    }
   },
   "source": [
    "xgb_model = xgb.XGBClassifier(random_state=42)\n",
    "xgb_model.fit(X_train, y_train)\n",
    "y_pred_xgb = xgb_model.predict(X_test)\n",
    "\n",
    "print(\"Relatório de Classificação - XGBoost\\n\")\n",
    "print(classification_report(y_test, y_pred_xgb))"
   ],
   "outputs": [
    {
     "name": "stdout",
     "output_type": "stream",
     "text": [
      "Relatório de Classificação - XGBoost\n",
      "\n",
      "              precision    recall  f1-score   support\n",
      "\n",
      "           0       0.93      0.94      0.93      5388\n",
      "           1       0.91      0.88      0.89      3448\n",
      "\n",
      "    accuracy                           0.92      8836\n",
      "   macro avg       0.92      0.91      0.91      8836\n",
      "weighted avg       0.92      0.92      0.92      8836\n",
      "\n"
     ]
    }
   ],
   "execution_count": 15
  },
  {
   "cell_type": "markdown",
   "metadata": {},
   "source": [
    "## 9. SVM (Support Vector Machine)"
   ]
  },
  {
   "cell_type": "code",
   "metadata": {
    "ExecuteTime": {
     "end_time": "2025-09-19T11:02:49.875383Z",
     "start_time": "2025-09-19T11:02:44.642239Z"
    }
   },
   "source": [
    "svm_model = SVC(random_state=42)\n",
    "svm_model.fit(X_train, y_train)\n",
    "y_pred_svm = svm_model.predict(X_test)\n",
    "\n",
    "print(\"Relatório de Classificação - SVM\\n\")\n",
    "print(classification_report(y_test, y_pred_svm))"
   ],
   "outputs": [
    {
     "name": "stdout",
     "output_type": "stream",
     "text": [
      "Relatório de Classificação - SVM\n",
      "\n",
      "              precision    recall  f1-score   support\n",
      "\n",
      "           0       0.92      0.94      0.93      5388\n",
      "           1       0.91      0.87      0.89      3448\n",
      "\n",
      "    accuracy                           0.92      8836\n",
      "   macro avg       0.91      0.91      0.91      8836\n",
      "weighted avg       0.92      0.92      0.92      8836\n",
      "\n"
     ]
    }
   ],
   "execution_count": 16
  },
  {
   "cell_type": "markdown",
   "metadata": {},
   "source": [
    "## Comparação Final dos Modelos"
   ]
  },
  {
   "cell_type": "code",
   "metadata": {
    "ExecuteTime": {
     "end_time": "2025-09-19T11:02:49.947684Z",
     "start_time": "2025-09-19T11:02:49.895011Z"
    }
   },
   "source": [
    "from sklearn.metrics import accuracy_score\n",
    "\n",
    "models_results = {\n",
    "    'Árvore de Decisão': accuracy_score(y_test, y_pred_dt),\n",
    "    'Random Forest (Padrão)': accuracy_score(y_test, y_pred_rf),\n",
    "    'Random Forest (GridSearch)': accuracy_score(y_test, y_pred_best_rf),\n",
    "    'XGBoost': accuracy_score(y_test, y_pred_xgb),\n",
    "    'SVM': accuracy_score(y_test, y_pred_svm)\n",
    "}\n",
    "\n",
    "results_df = pd.DataFrame(list(models_results.items()), columns=['Modelo', 'Acurácia'])\n",
    "results_df = results_df.sort_values('Acurácia', ascending=False)\n",
    "\n",
    "plt.figure(figsize=(10, 6))\n",
    "plt.barh(results_df['Modelo'], results_df['Acurácia'], color='skyblue')\n",
    "plt.xlabel('Acurácia')\n",
    "plt.title('Comparação de Acurácia dos Modelos')\n",
    "plt.xlim([0.5, 1.0])\n",
    "\n",
    "for i, v in enumerate(results_df['Acurácia']):\n",
    "    plt.text(v + 0.005, i, f'{v:.4f}', va='center')\n",
    "\n",
    "plt.tight_layout()\n",
    "plt.show()\n",
    "\n",
    "print(\"\\nRanking de Acurácia dos Modelos:\")\n",
    "print(results_df.to_string(index=False))"
   ],
   "outputs": [
    {
     "data": {
      "text/plain": [
       "<Figure size 1000x600 with 1 Axes>"
      ],
      "image/png": "[encoded data removed]"
     },
     "metadata": {},
     "output_type": "display_data",
     "jetTransient": {
      "display_id": null
     }
    },
    {
     "name": "stdout",
     "output_type": "stream",
     "text": [
      "\n",
      "Ranking de Acurácia dos Modelos:\n",
      "                    Modelo  Acurácia\n",
      "    Random Forest (Padrão)  0.921458\n",
      "Random Forest (GridSearch)  0.920892\n",
      "                   XGBoost  0.918742\n",
      "                       SVM  0.915346\n",
      "         Árvore de Decisão  0.882866\n"
     ]
    }
   ],
   "execution_count": 17
  },
  {
   "cell_type": "markdown",
   "source": "## 10. GridSearch - SVM\n\n### Questão 8: GridSearch para otimização de parâmetros C e kernel",
   "metadata": {}
  },
  {
   "cell_type": "code",
   "source": "param_grid_svm = {\n    'C': [0.1, 1, 10, 100],\n    'kernel': ['linear', 'poly', 'rbf', 'sigmoid']\n}\n\nsvm_grid = SVC(random_state=42)\ngrid_search_svm = GridSearchCV(\n    svm_grid, \n    param_grid_svm, \n    cv=5, \n    scoring='accuracy',\n    n_jobs=-1\n)\n\nprint(\"Executando GridSearch para SVM...\")\ngrid_search_svm.fit(X_train, y_train)\n\nprint(f\"\\nMelhores parâmetros encontrados:\")\nprint(grid_search_svm.best_params_)\nprint(f\"\\nMelhor score de validação cruzada: {grid_search_svm.best_score_:.4f}\")",
   "metadata": {
    "ExecuteTime": {
     "end_time": "2025-09-19T11:10:02.533480Z",
     "start_time": "2025-09-19T11:02:49.950650Z"
    }
   },
   "outputs": [
    {
     "name": "stdout",
     "output_type": "stream",
     "text": [
      "Executando GridSearch para SVM...\n",
      "\n",
      "Melhores parâmetros encontrados:\n",
      "{'C': 0.1, 'kernel': 'linear'}\n",
      "\n",
      "Melhor score de validação cruzada: 0.9179\n"
     ]
    }
   ],
   "execution_count": 18
  },
  {
   "cell_type": "markdown",
   "source": "### Questões 9 e 10: Executar melhor modelo SVM e apresentar relatório",
   "metadata": {}
  },
  {
   "cell_type": "code",
   "source": "best_svm = grid_search_svm.best_estimator_\ny_pred_best_svm = best_svm.predict(X_test)\n\nprint(\"Relatório de Classificação - SVM (GridSearch)\\n\")\nprint(classification_report(y_test, y_pred_best_svm))",
   "metadata": {
    "ExecuteTime": {
     "end_time": "2025-09-19T11:10:03.250776Z",
     "start_time": "2025-09-19T11:10:02.579089Z"
    }
   },
   "outputs": [
    {
     "name": "stdout",
     "output_type": "stream",
     "text": [
      "Relatório de Classificação - SVM (GridSearch)\n",
      "\n",
      "              precision    recall  f1-score   support\n",
      "\n",
      "           0       0.92      0.94      0.93      5388\n",
      "           1       0.91      0.88      0.89      3448\n",
      "\n",
      "    accuracy                           0.92      8836\n",
      "   macro avg       0.91      0.91      0.91      8836\n",
      "weighted avg       0.92      0.92      0.92      8836\n",
      "\n"
     ]
    }
   ],
   "execution_count": 19
  },
  {
   "cell_type": "markdown",
   "source": "## 11. Feature Importance\n\n### Questão 11: Visualização da importância das variáveis no Random Forest",
   "metadata": {}
  },
  {
   "cell_type": "code",
   "source": "feature_importance = pd.DataFrame({\n    'feature': X.columns,\n    'importance': best_rf.feature_importances_\n}).sort_values('importance', ascending=False)\n\nplt.figure(figsize=(12, 8))\nplt.barh(feature_importance['feature'][:15], feature_importance['importance'][:15])\nplt.xlabel('Importância')\nplt.ylabel('Variáveis')\nplt.title('Top 15 Variáveis Mais Importantes - Random Forest')\nplt.gca().invert_yaxis()\nplt.tight_layout()\nplt.show()\n\nprint(\"Importância das variáveis (todas):\")\nprint(feature_importance.to_string())",
   "metadata": {
    "ExecuteTime": {
     "end_time": "2025-09-19T11:10:03.348007Z",
     "start_time": "2025-09-19T11:10:03.254452Z"
    }
   },
   "outputs": [
    {
     "data": {
      "text/plain": [
       "<Figure size 1200x800 with 1 Axes>"
      ],
      "image/png": "[encoded data removed]"
     },
     "metadata": {},
     "output_type": "display_data",
     "jetTransient": {
      "display_id": null
     }
    },
    {
     "name": "stdout",
     "output_type": "stream",
     "text": [
      "Importância das variáveis (todas):\n",
      "         feature  importance\n",
      "2          table    0.614075\n",
      "1          depth    0.079218\n",
      "5              y    0.058646\n",
      "4              x    0.056069\n",
      "3          price    0.054603\n",
      "6              z    0.045707\n",
      "0          carat    0.040958\n",
      "8    clarity_SI1    0.005019\n",
      "16       color_G    0.004864\n",
      "9    clarity_SI2    0.004838\n",
      "15       color_F    0.004558\n",
      "17       color_H    0.004408\n",
      "14       color_E    0.004390\n",
      "18       color_I    0.004332\n",
      "11   clarity_VS2    0.003924\n",
      "10   clarity_VS1    0.003400\n",
      "13  clarity_VVS2    0.003296\n",
      "7     clarity_IF    0.002845\n",
      "12  clarity_VVS1    0.002473\n",
      "19       color_J    0.002378\n"
     ]
    }
   ],
   "execution_count": 20
  },
  {
   "cell_type": "markdown",
   "source": "### Questão 12: Três variáveis mais relevantes",
   "metadata": {}
  },
  {
   "cell_type": "code",
   "source": "top_3 = feature_importance.head(3)\nprint(\"As 3 variáveis mais relevantes são:\\n\")\nfor i, row in top_3.iterrows():\n    print(f\"{row['feature']}: {row['importance']:.4f}\")\n\nprint(\"\\nJustificativa:\")\nprint(\"Essas variáveis têm os maiores valores de importância calculados pelo Random Forest,\")\nprint(\"indicando que são as que mais contribuem para a decisão de classificação entre\")\nprint(\"diamantes Ideal e Premium. O algoritmo calcula isso baseado na redução de impureza\")\nprint(\"que cada variável proporciona nas árvores de decisão.\")",
   "metadata": {
    "ExecuteTime": {
     "end_time": "2025-09-19T11:10:03.354533Z",
     "start_time": "2025-09-19T11:10:03.351755Z"
    }
   },
   "outputs": [
    {
     "name": "stdout",
     "output_type": "stream",
     "text": [
      "As 3 variáveis mais relevantes são:\n",
      "\n",
      "table: 0.6141\n",
      "depth: 0.0792\n",
      "y: 0.0586\n",
      "\n",
      "Justificativa:\n",
      "Essas variáveis têm os maiores valores de importância calculados pelo Random Forest,\n",
      "indicando que são as que mais contribuem para a decisão de classificação entre\n",
      "diamantes Ideal e Premium. O algoritmo calcula isso baseado na redução de impureza\n",
      "que cada variável proporciona nas árvores de decisão.\n"
     ]
    }
   ],
   "execution_count": 21
  },
  {
   "cell_type": "markdown",
   "source": "## 12. Análise LIME\n\n### Questão 13: Aplicação da técnica LIME em duas observações",
   "metadata": {}
  },
  {
   "cell_type": "code",
   "source": "!pip install lime -q\n\nimport lime\nimport lime.lime_tabular\n\nnp.random.seed(42)\nindices = np.random.choice(X_test.shape[0], 2, replace=False)\n\nexplainer = lime.lime_tabular.LimeTabularExplainer(\n    X_train,\n    feature_names=X.columns.tolist(),\n    class_names=['Ideal', 'Premium'],\n    mode='classification',\n    random_state=42\n)\n\nprint(\"Observações selecionadas aleatoriamente:\")\nprint(f\"Índices no conjunto de teste: {indices}\")",
   "metadata": {
    "ExecuteTime": {
     "end_time": "2025-09-19T11:10:04.041800Z",
     "start_time": "2025-09-19T11:10:03.358156Z"
    }
   },
   "outputs": [
    {
     "name": "stdout",
     "output_type": "stream",
     "text": [
      "\r\n",
      "\u001B[1m[\u001B[0m\u001B[34;49mnotice\u001B[0m\u001B[1;39;49m]\u001B[0m\u001B[39;49m A new release of pip is available: \u001B[0m\u001B[31;49m24.3.1\u001B[0m\u001B[39;49m -> \u001B[0m\u001B[32;49m25.2\u001B[0m\r\n",
      "\u001B[1m[\u001B[0m\u001B[34;49mnotice\u001B[0m\u001B[1;39;49m]\u001B[0m\u001B[39;49m To update, run: \u001B[0m\u001B[32;49mpip install --upgrade pip\u001B[0m\r\n",
      "Observações selecionadas aleatoriamente:\n",
      "Índices no conjunto de teste: [4043 5885]\n"
     ]
    }
   ],
   "execution_count": 22
  },
  {
   "cell_type": "markdown",
   "source": "#### Análise da primeira observação",
   "metadata": {}
  },
  {
   "cell_type": "code",
   "source": "i = indices[0]\nexp1 = explainer.explain_instance(\n    X_test[i], \n    best_rf.predict_proba, \n    num_features=10\n)\n\nprint(f\"Observação 1 - Classe real: {y_test.iloc[i]} ({['Ideal', 'Premium'][y_test.iloc[i]]})\")\nprint(f\"Predição do modelo: {best_rf.predict(X_test[i].reshape(1, -1))[0]} ({['Ideal', 'Premium'][best_rf.predict(X_test[i].reshape(1, -1))[0]]})\")\nprint(\"\\nExplicação LIME - Top 10 features:\")\n\nfor feature, weight in exp1.as_list()[:10]:\n    print(f\"{feature}: {weight:.4f}\")",
   "metadata": {
    "ExecuteTime": {
     "end_time": "2025-09-19T11:10:04.113617Z",
     "start_time": "2025-09-19T11:10:04.045389Z"
    }
   },
   "outputs": [
    {
     "name": "stdout",
     "output_type": "stream",
     "text": [
      "Observação 1 - Classe real: 0 (Ideal)\n",
      "Predição do modelo: 0 (Ideal)\n",
      "\n",
      "Explicação LIME - Top 10 features:\n",
      "table <= -0.54: -0.2636\n",
      "-0.91 < x <= -0.16: -0.0905\n",
      "-0.73 < price <= -0.42: 0.0593\n",
      "depth <= -0.46: 0.0406\n",
      "-0.83 < carat <= -0.33: -0.0387\n",
      "-0.89 < y <= -0.15: 0.0358\n",
      "clarity_VVS1 > -0.29: -0.0295\n",
      "color_I <= -0.33: 0.0182\n",
      "clarity_SI1 <= -0.53: -0.0140\n",
      "-0.91 < z <= -0.17: -0.0138\n"
     ]
    }
   ],
   "execution_count": 23
  },
  {
   "cell_type": "markdown",
   "source": "#### Análise da segunda observação",
   "metadata": {}
  },
  {
   "cell_type": "code",
   "source": "i = indices[1]\nexp2 = explainer.explain_instance(\n    X_test[i], \n    best_rf.predict_proba, \n    num_features=10\n)\n\nprint(f\"Observação 2 - Classe real: {y_test.iloc[i]} ({['Ideal', 'Premium'][y_test.iloc[i]]})\")\nprint(f\"Predição do modelo: {best_rf.predict(X_test[i].reshape(1, -1))[0]} ({['Ideal', 'Premium'][best_rf.predict(X_test[i].reshape(1, -1))[0]]})\")\nprint(\"\\nExplicação LIME - Top 10 features:\")\n\nfor feature, weight in exp2.as_list()[:10]:\n    print(f\"{feature}: {weight:.4f}\")",
   "metadata": {
    "ExecuteTime": {
     "end_time": "2025-09-19T11:10:04.171405Z",
     "start_time": "2025-09-19T11:10:04.116508Z"
    }
   },
   "outputs": [
    {
     "name": "stdout",
     "output_type": "stream",
     "text": [
      "Observação 2 - Classe real: 0 (Ideal)\n",
      "Predição do modelo: 0 (Ideal)\n",
      "\n",
      "Explicação LIME - Top 10 features:\n",
      "table <= -0.54: -0.2710\n",
      "x <= -0.91: -0.1180\n",
      "y <= -0.89: 0.0919\n",
      "price <= -0.73: 0.0597\n",
      "carat <= -0.83: -0.0552\n",
      "clarity_IF <= -0.21: 0.0374\n",
      "-0.46 < depth <= 0.17: -0.0292\n",
      "clarity_VVS1 <= -0.29: 0.0214\n",
      "clarity_SI1 <= -0.53: -0.0209\n",
      "z <= -0.91: 0.0150\n"
     ]
    }
   ],
   "execution_count": 24
  },
  {
   "cell_type": "markdown",
   "source": "### Questão 14: Interpretação dos resultados LIME",
   "metadata": {}
  },
  {
   "cell_type": "code",
   "source": [
    "print(\"=== OBSERVAÇÃO 1 ===\")\n",
    "print(\"\\nVariáveis da observação:\")\n",
    "for feat in X.columns[:10]:\n",
    "    idx = X.columns.get_loc(feat)\n",
    "    print(f\"{feat}: {X_test[indices[0]][idx]:.4f}\")\n",
    "\n",
    "print(\"\\nDois fatores que mais influenciaram a classificação:\")\n",
    "exp1_list = exp1.as_list()\n",
    "print(f\"1. {exp1_list[0][0]} - Peso: {exp1_list[0][1]:.4f}\")\n",
    "print(f\"2. {exp1_list[1][0]} - Peso: {exp1_list[1][1]:.4f}\")\n",
    "\n",
    "print(\"\\n=== OBSERVAÇÃO 2 ===\")\n",
    "print(\"\\nVariáveis da observação:\")\n",
    "for feat in X.columns[:10]:\n",
    "    idx = X.columns.get_loc(feat)\n",
    "    print(f\"{feat}: {X_test[indices[1]][idx]:.4f}\")\n",
    "\n",
    "print(\"\\nDois fatores que mais influenciaram a classificação:\")\n",
    "exp2_list = exp2.as_list()\n",
    "print(f\"1. {exp2_list[0][0]} - Peso: {exp2_list[0][1]:.4f}\")\n",
    "print(f\"2. {exp2_list[1][0]} - Peso: {exp2_list[1][1]:.4f}\")\n",
    "\n",
    "print(\"\\n=== Analise ===\")\n",
    "print(\"O LIME mostra como cada variável contribuiu para a decisão do modelo.\")\n",
    "print(\"Valores positivos indicam contribuição para a classe Premium,\")\n",
    "print(\"enquanto valores negativos indicam contribuição para a classe Ideal.\")\n",
    "print(\"As variáveis com maior peso absoluto são as mais importantes para\")\n",
    "print(\"a decisão específica em cada observação individual.\")"
   ],
   "metadata": {
    "ExecuteTime": {
     "end_time": "2025-09-19T11:54:03.302065Z",
     "start_time": "2025-09-19T11:54:03.287943Z"
    }
   },
   "outputs": [
    {
     "name": "stdout",
     "output_type": "stream",
     "text": [
      "=== OBSERVAÇÃO 1 ===\n",
      "\n",
      "Variáveis da observação:\n",
      "carat: -0.8126\n",
      "depth: -1.2068\n",
      "table: -0.5448\n",
      "price: -0.6686\n",
      "x: -0.8173\n",
      "y: -0.7750\n",
      "z: -0.8849\n",
      "clarity_IF: -0.2062\n",
      "clarity_SI1: -0.5347\n",
      "clarity_SI2: -0.4315\n",
      "\n",
      "Dois fatores que mais influenciaram a classificação:\n",
      "1. table <= -0.54 - Peso: -0.2636\n",
      "2. -0.91 < x <= -0.16 - Peso: -0.0905\n",
      "\n",
      "=== OBSERVAÇÃO 2 ===\n",
      "\n",
      "Variáveis da observação:\n",
      "carat: -0.9808\n",
      "depth: -0.2506\n",
      "table: -1.0677\n",
      "price: -0.7461\n",
      "x: -1.1866\n",
      "y: -1.1258\n",
      "z: -1.1859\n",
      "clarity_IF: -0.2062\n",
      "clarity_SI1: -0.5347\n",
      "clarity_SI2: -0.4315\n",
      "\n",
      "Dois fatores que mais influenciaram a classificação:\n",
      "1. table <= -0.54 - Peso: -0.2710\n",
      "2. x <= -0.91 - Peso: -0.1180\n",
      "\n",
      "=== Analise ===\n",
      "O LIME mostra como cada variável contribuiu para a decisão do modelo.\n",
      "Valores positivos indicam contribuição para a classe Premium,\n",
      "enquanto valores negativos indicam contribuição para a classe Ideal.\n",
      "As variáveis com maior peso absoluto são as mais importantes para\n",
      "a decisão específica em cada observação individual.\n"
     ]
    }
   ],
   "execution_count": 26
  }
 ],
 "metadata": {
  "kernelspec": {
   "display_name": "Python 3",
   "language": "python",
   "name": "python3"
  },
  "language_info": {
   "codemirror_mode": {
    "name": "ipython",
    "version": 3
   },
   "file_extension": ".py",
   "mimetype": "text/x-python",
   "name": "python",
   "nbconvert_exporter": "python",
   "pygments_lexer": "ipython3",
   "version": "3.8.0"
  }
 },
 "nbformat": 4,
 "nbformat_minor": 4
}
