{
 "cells": [
  {
   "cell_type": "code",
   "id": "initial_id",
   "metadata": {
    "collapsed": true,
    "ExecuteTime": {
     "end_time": "2025-09-07T22:50:28.727686Z",
     "start_time": "2025-09-07T22:50:28.724549Z"
    }
   },
   "source": [
    ""
   ],
   "outputs": [],
   "execution_count": null
  },
  {
   "cell_type": "markdown",
   "id": "wdtj7i0map",
   "source": "# TP02 - Classificação com SVM\n\n## Dataset: Titanic",
   "metadata": {}
  },
  {
   "cell_type": "markdown",
   "id": "waaplfh775",
   "source": "## Questão 1: Preparação e Transformação dos Dados",
   "metadata": {}
  },
  {
   "cell_type": "code",
   "id": "13ighl8dtms",
   "source": "import pandas as pd\nimport numpy as np\nfrom sklearn.preprocessing import LabelEncoder\nfrom sklearn.model_selection import train_test_split\nfrom sklearn.svm import SVC\nfrom sklearn.metrics import confusion_matrix, accuracy_score, precision_score, recall_score, f1_score\nimport matplotlib.pyplot as plt\nimport seaborn as sns",
   "metadata": {
    "ExecuteTime": {
     "end_time": "2025-09-07T22:50:29.382085Z",
     "start_time": "2025-09-07T22:50:28.765915Z"
    }
   },
   "outputs": [],
   "execution_count": 1
  },
  {
   "cell_type": "code",
   "id": "oyn6bfs2fo",
   "source": "df = pd.read_csv('titanic_data.csv')\nprint(f\"Shape inicial: {df.shape}\")\ndf.head()",
   "metadata": {
    "ExecuteTime": {
     "end_time": "2025-09-07T22:50:29.398293Z",
     "start_time": "2025-09-07T22:50:29.386669Z"
    }
   },
   "outputs": [
    {
     "name": "stdout",
     "output_type": "stream",
     "text": [
      "Shape inicial: (891, 12)\n"
     ]
    },
    {
     "data": {
      "text/plain": [
       "   PassengerId  Survived  Pclass  \\\n",
       "0            1         0       3   \n",
       "1            2         1       1   \n",
       "2            3         1       3   \n",
       "3            4         1       1   \n",
       "4            5         0       3   \n",
       "\n",
       "                                                Name     Sex   Age  SibSp  \\\n",
       "0                            Braund, Mr. Owen Harris    male  22.0      1   \n",
       "1  Cumings, Mrs. John Bradley (Florence Briggs Th...  female  38.0      1   \n",
       "2                             Heikkinen, Miss. Laina  female  26.0      0   \n",
       "3       Futrelle, Mrs. Jacques Heath (Lily May Peel)  female  35.0      1   \n",
       "4                           Allen, Mr. William Henry    male  35.0      0   \n",
       "\n",
       "   Parch            Ticket     Fare Cabin Embarked  \n",
       "0      0         A/5 21171   7.2500   NaN        S  \n",
       "1      0          PC 17599  71.2833   C85        C  \n",
       "2      0  STON/O2. 3101282   7.9250   NaN        S  \n",
       "3      0            113803  53.1000  C123        S  \n",
       "4      0            373450   8.0500   NaN        S  "
      ],
      "text/html": [
       "<div>\n",
       "<style scoped>\n",
       "    .dataframe tbody tr th:only-of-type {\n",
       "        vertical-align: middle;\n",
       "    }\n",
       "\n",
       "    .dataframe tbody tr th {\n",
       "        vertical-align: top;\n",
       "    }\n",
       "\n",
       "    .dataframe thead th {\n",
       "        text-align: right;\n",
       "    }\n",
       "</style>\n",
       "<table border=\"1\" class=\"dataframe\">\n",
       "  <thead>\n",
       "    <tr style=\"text-align: right;\">\n",
       "      <th></th>\n",
       "      <th>PassengerId</th>\n",
       "      <th>Survived</th>\n",
       "      <th>Pclass</th>\n",
       "      <th>Name</th>\n",
       "      <th>Sex</th>\n",
       "      <th>Age</th>\n",
       "      <th>SibSp</th>\n",
       "      <th>Parch</th>\n",
       "      <th>Ticket</th>\n",
       "      <th>Fare</th>\n",
       "      <th>Cabin</th>\n",
       "      <th>Embarked</th>\n",
       "    </tr>\n",
       "  </thead>\n",
       "  <tbody>\n",
       "    <tr>\n",
       "      <th>0</th>\n",
       "      <td>1</td>\n",
       "      <td>0</td>\n",
       "      <td>3</td>\n",
       "      <td>Braund, Mr. Owen Harris</td>\n",
       "      <td>male</td>\n",
       "      <td>22.0</td>\n",
       "      <td>1</td>\n",
       "      <td>0</td>\n",
       "      <td>A/5 21171</td>\n",
       "      <td>7.2500</td>\n",
       "      <td>NaN</td>\n",
       "      <td>S</td>\n",
       "    </tr>\n",
       "    <tr>\n",
       "      <th>1</th>\n",
       "      <td>2</td>\n",
       "      <td>1</td>\n",
       "      <td>1</td>\n",
       "      <td>Cumings, Mrs. John Bradley (Florence Briggs Th...</td>\n",
       "      <td>female</td>\n",
       "      <td>38.0</td>\n",
       "      <td>1</td>\n",
       "      <td>0</td>\n",
       "      <td>PC 17599</td>\n",
       "      <td>71.2833</td>\n",
       "      <td>C85</td>\n",
       "      <td>C</td>\n",
       "    </tr>\n",
       "    <tr>\n",
       "      <th>2</th>\n",
       "      <td>3</td>\n",
       "      <td>1</td>\n",
       "      <td>3</td>\n",
       "      <td>Heikkinen, Miss. Laina</td>\n",
       "      <td>female</td>\n",
       "      <td>26.0</td>\n",
       "      <td>0</td>\n",
       "      <td>0</td>\n",
       "      <td>STON/O2. 3101282</td>\n",
       "      <td>7.9250</td>\n",
       "      <td>NaN</td>\n",
       "      <td>S</td>\n",
       "    </tr>\n",
       "    <tr>\n",
       "      <th>3</th>\n",
       "      <td>4</td>\n",
       "      <td>1</td>\n",
       "      <td>1</td>\n",
       "      <td>Futrelle, Mrs. Jacques Heath (Lily May Peel)</td>\n",
       "      <td>female</td>\n",
       "      <td>35.0</td>\n",
       "      <td>1</td>\n",
       "      <td>0</td>\n",
       "      <td>113803</td>\n",
       "      <td>53.1000</td>\n",
       "      <td>C123</td>\n",
       "      <td>S</td>\n",
       "    </tr>\n",
       "    <tr>\n",
       "      <th>4</th>\n",
       "      <td>5</td>\n",
       "      <td>0</td>\n",
       "      <td>3</td>\n",
       "      <td>Allen, Mr. William Henry</td>\n",
       "      <td>male</td>\n",
       "      <td>35.0</td>\n",
       "      <td>0</td>\n",
       "      <td>0</td>\n",
       "      <td>373450</td>\n",
       "      <td>8.0500</td>\n",
       "      <td>NaN</td>\n",
       "      <td>S</td>\n",
       "    </tr>\n",
       "  </tbody>\n",
       "</table>\n",
       "</div>"
      ]
     },
     "execution_count": 2,
     "metadata": {},
     "output_type": "execute_result"
    }
   ],
   "execution_count": 2
  },
  {
   "cell_type": "code",
   "id": "ftf4hxi02te",
   "source": "df = df.drop(['PassengerId', 'Name', 'Ticket', 'Cabin'], axis=1)\nprint(f\"Shape após eliminar colunas: {df.shape}\")",
   "metadata": {
    "ExecuteTime": {
     "end_time": "2025-09-07T22:50:29.467578Z",
     "start_time": "2025-09-07T22:50:29.465191Z"
    }
   },
   "outputs": [
    {
     "name": "stdout",
     "output_type": "stream",
     "text": [
      "Shape após eliminar colunas: (891, 8)\n"
     ]
    }
   ],
   "execution_count": 3
  },
  {
   "cell_type": "code",
   "id": "ou1wir08i",
   "source": "print(f\"NAs antes: {df.isna().sum().sum()}\")\ndf = df.dropna()\nprint(f\"Shape após eliminar NAs: {df.shape}\")",
   "metadata": {
    "ExecuteTime": {
     "end_time": "2025-09-07T22:50:29.473632Z",
     "start_time": "2025-09-07T22:50:29.471013Z"
    }
   },
   "outputs": [
    {
     "name": "stdout",
     "output_type": "stream",
     "text": [
      "NAs antes: 179\n",
      "Shape após eliminar NAs: (712, 8)\n"
     ]
    }
   ],
   "execution_count": 4
  },
  {
   "cell_type": "code",
   "id": "laoq452xig",
   "source": "le_sex = LabelEncoder()\nle_embarked = LabelEncoder()\n\ndf['Sex'] = le_sex.fit_transform(df['Sex'])\ndf['Embarked'] = le_embarked.fit_transform(df['Embarked'])\n\nprint(\"Valores únicos após encoding:\")\nprint(f\"Sex: {df['Sex'].unique()}\")\nprint(f\"Embarked: {df['Embarked'].unique()}\")",
   "metadata": {
    "ExecuteTime": {
     "end_time": "2025-09-07T22:50:29.500826Z",
     "start_time": "2025-09-07T22:50:29.497213Z"
    }
   },
   "outputs": [
    {
     "name": "stdout",
     "output_type": "stream",
     "text": [
      "Valores únicos após encoding:\n",
      "Sex: [1 0]\n",
      "Embarked: [2 0 1]\n"
     ]
    }
   ],
   "execution_count": 5
  },
  {
   "cell_type": "code",
   "id": "28cd6zek0vi",
   "source": "X = df.drop('Survived', axis=1)\ny = df['Survived']\n\nX_train, X_test, y_train, y_test = train_test_split(X, y, test_size=0.25, random_state=42)\n\nprint(f\"Treino: {X_train.shape}\")\nprint(f\"Teste: {X_test.shape}\")",
   "metadata": {
    "ExecuteTime": {
     "end_time": "2025-09-07T22:50:29.662515Z",
     "start_time": "2025-09-07T22:50:29.642409Z"
    }
   },
   "outputs": [
    {
     "name": "stdout",
     "output_type": "stream",
     "text": [
      "Treino: (534, 7)\n",
      "Teste: (178, 7)\n"
     ]
    }
   ],
   "execution_count": 6
  },
  {
   "cell_type": "code",
   "id": "xcd9w2xnq2s",
   "source": "svm_linear = SVC(kernel='linear', random_state=42)\nsvm_linear.fit(X_train, y_train)\n\ny_pred_linear = svm_linear.predict(X_test)\nprint(\"Modelo SVM com kernel linear treinado!\")",
   "metadata": {
    "ExecuteTime": {
     "end_time": "2025-09-07T22:50:32.825384Z",
     "start_time": "2025-09-07T22:50:29.802620Z"
    }
   },
   "outputs": [
    {
     "name": "stdout",
     "output_type": "stream",
     "text": [
      "Modelo SVM com kernel linear treinado!\n"
     ]
    }
   ],
   "execution_count": 7
  },
  {
   "cell_type": "markdown",
   "id": "fm0g52thwf5",
   "source": "## Questão 2: Matriz de Confusão e Métricas (Kernel Linear)",
   "metadata": {}
  },
  {
   "cell_type": "code",
   "id": "apt3qfbm4yh",
   "source": "cm_linear = confusion_matrix(y_test, y_pred_linear)\n\nplt.figure(figsize=(6, 4))\nsns.heatmap(cm_linear, annot=True, fmt='d', cmap='Blues')\nplt.title('Matriz de Confusão - Kernel Linear')\nplt.xlabel('Predito')\nplt.ylabel('Real')\nplt.show()",
   "metadata": {
    "ExecuteTime": {
     "end_time": "2025-09-07T22:50:32.975638Z",
     "start_time": "2025-09-07T22:50:32.868285Z"
    }
   },
   "outputs": [
    {
     "data": {
      "text/plain": [
       "<Figure size 600x400 with 2 Axes>"
      ],
      "image/png": "[encoded data removed]"
     },
     "metadata": {},
     "output_type": "display_data"
    }
   ],
   "execution_count": 8
  },
  {
   "cell_type": "code",
   "id": "5nxdqe9cch7",
   "source": "acc_linear = accuracy_score(y_test, y_pred_linear)\nprec_linear = precision_score(y_test, y_pred_linear)\nrec_linear = recall_score(y_test, y_pred_linear)\nf1_linear = f1_score(y_test, y_pred_linear)\n\nprint(\"Métricas - Kernel Linear:\")\nprint(f\"Acurácia: {acc_linear:.4f}\")\nprint(f\"Precision: {prec_linear:.4f}\")\nprint(f\"Recall: {rec_linear:.4f}\")\nprint(f\"F1-Score: {f1_linear:.4f}\")",
   "metadata": {
    "ExecuteTime": {
     "end_time": "2025-09-07T22:50:32.987780Z",
     "start_time": "2025-09-07T22:50:32.981730Z"
    }
   },
   "outputs": [
    {
     "name": "stdout",
     "output_type": "stream",
     "text": [
      "Métricas - Kernel Linear:\n",
      "Acurácia: 0.7472\n",
      "Precision: 0.7500\n",
      "Recall: 0.6456\n",
      "F1-Score: 0.6939\n"
     ]
    }
   ],
   "execution_count": 9
  },
  {
   "cell_type": "markdown",
   "id": "tmlto4rgona",
   "source": "## Questão 3: Modelos com Kernels RBF e Sigmoid",
   "metadata": {}
  },
  {
   "cell_type": "markdown",
   "id": "5u70smokj8j",
   "source": "### Kernel RBF",
   "metadata": {}
  },
  {
   "cell_type": "code",
   "id": "0v4vpk9dnly",
   "source": "svm_rbf = SVC(kernel='rbf', random_state=42)\nsvm_rbf.fit(X_train, y_train)\ny_pred_rbf = svm_rbf.predict(X_test)\n\ncm_rbf = confusion_matrix(y_test, y_pred_rbf)\n\nplt.figure(figsize=(6, 4))\nsns.heatmap(cm_rbf, annot=True, fmt='d', cmap='Blues')\nplt.title('Matriz de Confusão - Kernel RBF')\nplt.xlabel('Predito')\nplt.ylabel('Real')\nplt.show()",
   "metadata": {
    "ExecuteTime": {
     "end_time": "2025-09-07T22:50:33.039602Z",
     "start_time": "2025-09-07T22:50:32.990700Z"
    }
   },
   "outputs": [
    {
     "data": {
      "text/plain": [
       "<Figure size 600x400 with 2 Axes>"
      ],
      "image/png": "[encoded data removed]"
     },
     "metadata": {},
     "output_type": "display_data"
    }
   ],
   "execution_count": 10
  },
  {
   "cell_type": "code",
   "id": "08fk303mgkum",
   "source": "acc_rbf = accuracy_score(y_test, y_pred_rbf)\nprec_rbf = precision_score(y_test, y_pred_rbf)\nrec_rbf = recall_score(y_test, y_pred_rbf)\nf1_rbf = f1_score(y_test, y_pred_rbf)\n\nprint(\"Métricas - Kernel RBF:\")\nprint(f\"Acurácia: {acc_rbf:.4f}\")\nprint(f\"Precision: {prec_rbf:.4f}\")\nprint(f\"Recall: {rec_rbf:.4f}\")\nprint(f\"F1-Score: {f1_rbf:.4f}\")",
   "metadata": {
    "ExecuteTime": {
     "end_time": "2025-09-07T22:50:33.048745Z",
     "start_time": "2025-09-07T22:50:33.043056Z"
    }
   },
   "outputs": [
    {
     "name": "stdout",
     "output_type": "stream",
     "text": [
      "Métricas - Kernel RBF:\n",
      "Acurácia: 0.6348\n",
      "Precision: 0.6522\n",
      "Recall: 0.3797\n",
      "F1-Score: 0.4800\n"
     ]
    }
   ],
   "execution_count": 11
  },
  {
   "cell_type": "markdown",
   "id": "h4q2dpwpze5",
   "source": "### Kernel Sigmoid",
   "metadata": {}
  },
  {
   "cell_type": "code",
   "id": "yd263uhfnlm",
   "source": "svm_sigmoid = SVC(kernel='sigmoid', random_state=42)\nsvm_sigmoid.fit(X_train, y_train)\ny_pred_sigmoid = svm_sigmoid.predict(X_test)\n\ncm_sigmoid = confusion_matrix(y_test, y_pred_sigmoid)\n\nplt.figure(figsize=(6, 4))\nsns.heatmap(cm_sigmoid, annot=True, fmt='d', cmap='Blues')\nplt.title('Matriz de Confusão - Kernel Sigmoid')\nplt.xlabel('Predito')\nplt.ylabel('Real')\nplt.show()",
   "metadata": {
    "ExecuteTime": {
     "end_time": "2025-09-07T22:50:33.095094Z",
     "start_time": "2025-09-07T22:50:33.052328Z"
    }
   },
   "outputs": [
    {
     "data": {
      "text/plain": [
       "<Figure size 600x400 with 2 Axes>"
      ],
      "image/png": "[encoded data removed]"
     },
     "metadata": {},
     "output_type": "display_data"
    }
   ],
   "execution_count": 12
  },
  {
   "cell_type": "code",
   "id": "1b8mwypdchu",
   "source": "acc_sigmoid = accuracy_score(y_test, y_pred_sigmoid)\nprec_sigmoid = precision_score(y_test, y_pred_sigmoid)\nrec_sigmoid = recall_score(y_test, y_pred_sigmoid)\nf1_sigmoid = f1_score(y_test, y_pred_sigmoid)\n\nprint(\"Métricas - Kernel Sigmoid:\")\nprint(f\"Acurácia: {acc_sigmoid:.4f}\")\nprint(f\"Precision: {prec_sigmoid:.4f}\")\nprint(f\"Recall: {rec_sigmoid:.4f}\")\nprint(f\"F1-Score: {f1_sigmoid:.4f}\")",
   "metadata": {
    "ExecuteTime": {
     "end_time": "2025-09-07T22:50:33.103579Z",
     "start_time": "2025-09-07T22:50:33.098298Z"
    }
   },
   "outputs": [
    {
     "name": "stdout",
     "output_type": "stream",
     "text": [
      "Métricas - Kernel Sigmoid:\n",
      "Acurácia: 0.5169\n",
      "Precision: 0.4493\n",
      "Recall: 0.3924\n",
      "F1-Score: 0.4189\n"
     ]
    }
   ],
   "execution_count": 13
  },
  {
   "cell_type": "markdown",
   "id": "1jzhh3fu611",
   "source": "## Questão 4: Comparação dos Modelos",
   "metadata": {}
  },
  {
   "cell_type": "code",
   "id": "ymjnihf51we",
   "source": "resultados = pd.DataFrame({\n    'Kernel': ['Linear', 'RBF', 'Sigmoid'],\n    'Acurácia': [acc_linear, acc_rbf, acc_sigmoid],\n    'Precision': [prec_linear, prec_rbf, prec_sigmoid],\n    'Recall': [rec_linear, rec_rbf, rec_sigmoid],\n    'F1-Score': [f1_linear, f1_rbf, f1_sigmoid]\n})\n\nresultados = resultados.round(4)\nresultados",
   "metadata": {
    "ExecuteTime": {
     "end_time": "2025-09-07T22:50:33.110348Z",
     "start_time": "2025-09-07T22:50:33.106789Z"
    }
   },
   "outputs": [
    {
     "data": {
      "text/plain": [
       "    Kernel  Acurácia  Precision  Recall  F1-Score\n",
       "0   Linear    0.7472     0.7500  0.6456    0.6939\n",
       "1      RBF    0.6348     0.6522  0.3797    0.4800\n",
       "2  Sigmoid    0.5169     0.4493  0.3924    0.4189"
      ],
      "text/html": [
       "<div>\n",
       "<style scoped>\n",
       "    .dataframe tbody tr th:only-of-type {\n",
       "        vertical-align: middle;\n",
       "    }\n",
       "\n",
       "    .dataframe tbody tr th {\n",
       "        vertical-align: top;\n",
       "    }\n",
       "\n",
       "    .dataframe thead th {\n",
       "        text-align: right;\n",
       "    }\n",
       "</style>\n",
       "<table border=\"1\" class=\"dataframe\">\n",
       "  <thead>\n",
       "    <tr style=\"text-align: right;\">\n",
       "      <th></th>\n",
       "      <th>Kernel</th>\n",
       "      <th>Acurácia</th>\n",
       "      <th>Precision</th>\n",
       "      <th>Recall</th>\n",
       "      <th>F1-Score</th>\n",
       "    </tr>\n",
       "  </thead>\n",
       "  <tbody>\n",
       "    <tr>\n",
       "      <th>0</th>\n",
       "      <td>Linear</td>\n",
       "      <td>0.7472</td>\n",
       "      <td>0.7500</td>\n",
       "      <td>0.6456</td>\n",
       "      <td>0.6939</td>\n",
       "    </tr>\n",
       "    <tr>\n",
       "      <th>1</th>\n",
       "      <td>RBF</td>\n",
       "      <td>0.6348</td>\n",
       "      <td>0.6522</td>\n",
       "      <td>0.3797</td>\n",
       "      <td>0.4800</td>\n",
       "    </tr>\n",
       "    <tr>\n",
       "      <th>2</th>\n",
       "      <td>Sigmoid</td>\n",
       "      <td>0.5169</td>\n",
       "      <td>0.4493</td>\n",
       "      <td>0.3924</td>\n",
       "      <td>0.4189</td>\n",
       "    </tr>\n",
       "  </tbody>\n",
       "</table>\n",
       "</div>"
      ]
     },
     "execution_count": 14,
     "metadata": {},
     "output_type": "execute_result"
    }
   ],
   "execution_count": 14
  },
  {
   "cell_type": "code",
   "id": "l7ug43skpdk",
   "source": "fig, axes = plt.subplots(1, 4, figsize=(15, 4))\n\nmetricas = ['Acurácia', 'Precision', 'Recall', 'F1-Score']\ncores = ['#1f77b4', '#ff7f0e', '#2ca02c']\n\nfor i, metrica in enumerate(metricas):\n    axes[i].bar(resultados['Kernel'], resultados[metrica], color=cores)\n    axes[i].set_title(metrica)\n    axes[i].set_ylim([0, 1])\n    axes[i].set_ylabel('Score')\n    \n    for j, v in enumerate(resultados[metrica]):\n        axes[i].text(j, v + 0.01, str(v), ha='center')\n\nplt.tight_layout()\nplt.show()",
   "metadata": {
    "ExecuteTime": {
     "end_time": "2025-09-07T22:50:33.282268Z",
     "start_time": "2025-09-07T22:50:33.132726Z"
    }
   },
   "outputs": [
    {
     "data": {
      "text/plain": [
       "<Figure size 1500x400 with 4 Axes>"
      ],
      "image/png": "[encoded data removed]"
     },
     "metadata": {},
     "output_type": "display_data"
    }
   ],
   "execution_count": 15
  },
  {
   "cell_type": "markdown",
   "id": "coaf30a3vtg",
   "source": "## Análise dos Resultados\n\nCom base nos experimentos realizados com o dataset Titanic (712 amostras após limpeza, 178 amostras de teste), obtivemos os seguintes resultados:\n\n### Desempenho por Kernel:\n\n1. **Kernel Linear**: \n   - Acurácia: 74.72%\n   - Precision: 75.00%\n   - Recall: 64.56%\n   - F1-Score: 69.39%\n   - Melhor desempenho geral com boa capacidade de separação linear dos dados\n\n2. **Kernel RBF**:\n   - Acurácia: 63.48%\n   - Precision: 65.22%\n   - Recall: 37.97%\n   - F1-Score: 48.00%\n   - Performance inferior ao linear, indicando que os dados têm natureza mais linear\n\n3. **Kernel Sigmoid**:\n   - Acurácia: 51.69%\n   - Precision: 44.93%\n   - Recall: 39.24%\n   - F1-Score: 41.89%\n   - Pior desempenho, próximo ao aleatório\n\n### Melhor Modelo: Kernel Linear\n\nO **kernel linear** apresentou o melhor desempenho com:\n- Maior acurácia (74.72%)\n- Melhor F1-Score (69.39%), indicando melhor balanço entre precision e recall\n- Maior consistência entre todas as métricas\n- Identificou corretamente 133 dos 178 passageiros (82 não-sobreviventes e 51 sobreviventes)\n\n### Conclusão\n\nPara o dataset Titanic, o kernel linear é o mais adequado, sugerindo que a relação entre as features (classe, sexo, idade, etc.) e a sobrevivência é predominantemente linear. O modelo consegue capturar bem os padrões principais como \"mulheres e crianças primeiro\" sem necessidade de transformações não-lineares complexas.",
   "metadata": {}
  }
 ],
 "metadata": {
  "kernelspec": {
   "display_name": "Python 3",
   "language": "python",
   "name": "python3"
  },
  "language_info": {
   "codemirror_mode": {
    "name": "ipython",
    "version": 2
   },
   "file_extension": ".py",
   "mimetype": "text/x-python",
   "name": "python",
   "nbconvert_exporter": "python",
   "pygments_lexer": "ipython2",
   "version": "2.7.6"
  }
 },
 "nbformat": 4,
 "nbformat_minor": 5
}
