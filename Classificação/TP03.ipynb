{
 "cells": [
  {
   "cell_type": "markdown",
   "metadata": {},
   "source": [
    "# TP03 - Classificação\n",
    "## Dataset: Customers Data (Horeca vs Retail)\n",
    "\n",
    "Análise de gastos anuais em diferentes categorias de produtos para classificação de canais de venda."
   ],
   "id": "d4ec89da24ce6e5d"
  },
  {
   "cell_type": "markdown",
   "metadata": {},
   "source": [
    "### 1. Importação de bibliotecas e carregamento dos dados"
   ],
   "id": "dedcf06d11cf5bce"
  },
  {
   "cell_type": "code",
   "metadata": {
    "execution": {
     "iopub.execute_input": "2025-09-08T23:13:32.236638Z",
     "iopub.status.busy": "2025-09-08T23:13:32.236492Z",
     "iopub.status.idle": "2025-09-08T23:13:33.427118Z",
     "shell.execute_reply": "2025-09-08T23:13:33.426800Z"
    },
    "ExecuteTime": {
     "end_time": "2025-09-08T23:32:01.545186Z",
     "start_time": "2025-09-08T23:32:00.969326Z"
    }
   },
   "source": [
    "import pandas as pd\n",
    "import numpy as np\n",
    "from sklearn.model_selection import train_test_split\n",
    "from sklearn.ensemble import RandomForestClassifier\n",
    "from sklearn.metrics import accuracy_score, precision_score, recall_score, f1_score, confusion_matrix\n",
    "import xgboost as xgb\n",
    "import warnings\n",
    "warnings.filterwarnings('ignore')"
   ],
   "id": "2eff20f49e2f16cf",
   "outputs": [],
   "execution_count": 1
  },
  {
   "cell_type": "code",
   "metadata": {
    "execution": {
     "iopub.execute_input": "2025-09-08T23:13:33.428816Z",
     "iopub.status.busy": "2025-09-08T23:13:33.428650Z",
     "iopub.status.idle": "2025-09-08T23:13:33.653050Z",
     "shell.execute_reply": "2025-09-08T23:13:33.652644Z"
    },
    "ExecuteTime": {
     "end_time": "2025-09-08T23:32:01.882033Z",
     "start_time": "2025-09-08T23:32:01.587307Z"
    }
   },
   "source": [
    "url = 'https://raw.githubusercontent.com/cassiusf/datasets/main/customers_data.csv'\n",
    "df = pd.read_csv(url)\n",
    "\n",
    "print(f\"Shape do dataset: {df.shape}\")\n",
    "print(f\"\\nPrimeiras linhas:\")\n",
    "df.head()"
   ],
   "id": "92791950d0618303",
   "outputs": [
    {
     "name": "stdout",
     "output_type": "stream",
     "text": [
      "Shape do dataset: (440, 8)\n",
      "\n",
      "Primeiras linhas:\n"
     ]
    },
    {
     "data": {
      "text/plain": [
       "   Channel  Region  Fresh  Milk  Grocery  Frozen  Detergents_Paper  Delicassen\n",
       "0        2       3  12669  9656     7561     214              2674        1338\n",
       "1        2       3   7057  9810     9568    1762              3293        1776\n",
       "2        2       3   6353  8808     7684    2405              3516        7844\n",
       "3        1       3  13265  1196     4221    6404               507        1788\n",
       "4        2       3  22615  5410     7198    3915              1777        5185"
      ],
      "text/html": [
       "<div>\n",
       "<style scoped>\n",
       "    .dataframe tbody tr th:only-of-type {\n",
       "        vertical-align: middle;\n",
       "    }\n",
       "\n",
       "    .dataframe tbody tr th {\n",
       "        vertical-align: top;\n",
       "    }\n",
       "\n",
       "    .dataframe thead th {\n",
       "        text-align: right;\n",
       "    }\n",
       "</style>\n",
       "<table border=\"1\" class=\"dataframe\">\n",
       "  <thead>\n",
       "    <tr style=\"text-align: right;\">\n",
       "      <th></th>\n",
       "      <th>Channel</th>\n",
       "      <th>Region</th>\n",
       "      <th>Fresh</th>\n",
       "      <th>Milk</th>\n",
       "      <th>Grocery</th>\n",
       "      <th>Frozen</th>\n",
       "      <th>Detergents_Paper</th>\n",
       "      <th>Delicassen</th>\n",
       "    </tr>\n",
       "  </thead>\n",
       "  <tbody>\n",
       "    <tr>\n",
       "      <th>0</th>\n",
       "      <td>2</td>\n",
       "      <td>3</td>\n",
       "      <td>12669</td>\n",
       "      <td>9656</td>\n",
       "      <td>7561</td>\n",
       "      <td>214</td>\n",
       "      <td>2674</td>\n",
       "      <td>1338</td>\n",
       "    </tr>\n",
       "    <tr>\n",
       "      <th>1</th>\n",
       "      <td>2</td>\n",
       "      <td>3</td>\n",
       "      <td>7057</td>\n",
       "      <td>9810</td>\n",
       "      <td>9568</td>\n",
       "      <td>1762</td>\n",
       "      <td>3293</td>\n",
       "      <td>1776</td>\n",
       "    </tr>\n",
       "    <tr>\n",
       "      <th>2</th>\n",
       "      <td>2</td>\n",
       "      <td>3</td>\n",
       "      <td>6353</td>\n",
       "      <td>8808</td>\n",
       "      <td>7684</td>\n",
       "      <td>2405</td>\n",
       "      <td>3516</td>\n",
       "      <td>7844</td>\n",
       "    </tr>\n",
       "    <tr>\n",
       "      <th>3</th>\n",
       "      <td>1</td>\n",
       "      <td>3</td>\n",
       "      <td>13265</td>\n",
       "      <td>1196</td>\n",
       "      <td>4221</td>\n",
       "      <td>6404</td>\n",
       "      <td>507</td>\n",
       "      <td>1788</td>\n",
       "    </tr>\n",
       "    <tr>\n",
       "      <th>4</th>\n",
       "      <td>2</td>\n",
       "      <td>3</td>\n",
       "      <td>22615</td>\n",
       "      <td>5410</td>\n",
       "      <td>7198</td>\n",
       "      <td>3915</td>\n",
       "      <td>1777</td>\n",
       "      <td>5185</td>\n",
       "    </tr>\n",
       "  </tbody>\n",
       "</table>\n",
       "</div>"
      ]
     },
     "execution_count": 2,
     "metadata": {},
     "output_type": "execute_result"
    }
   ],
   "execution_count": 2
  },
  {
   "cell_type": "markdown",
   "metadata": {},
   "source": [
    "### 2. Análise exploratória inicial"
   ],
   "id": "494b2f1a2ee80053"
  },
  {
   "cell_type": "code",
   "metadata": {
    "execution": {
     "iopub.execute_input": "2025-09-08T23:13:33.679757Z",
     "iopub.status.busy": "2025-09-08T23:13:33.679621Z",
     "iopub.status.idle": "2025-09-08T23:13:33.686186Z",
     "shell.execute_reply": "2025-09-08T23:13:33.685971Z"
    },
    "ExecuteTime": {
     "end_time": "2025-09-08T23:32:01.983926Z",
     "start_time": "2025-09-08T23:32:01.966700Z"
    }
   },
   "source": [
    "df.info()"
   ],
   "id": "49944883b404eecf",
   "outputs": [
    {
     "name": "stdout",
     "output_type": "stream",
     "text": [
      "<class 'pandas.core.frame.DataFrame'>\n",
      "RangeIndex: 440 entries, 0 to 439\n",
      "Data columns (total 8 columns):\n",
      " #   Column            Non-Null Count  Dtype\n",
      "---  ------            --------------  -----\n",
      " 0   Channel           440 non-null    int64\n",
      " 1   Region            440 non-null    int64\n",
      " 2   Fresh             440 non-null    int64\n",
      " 3   Milk              440 non-null    int64\n",
      " 4   Grocery           440 non-null    int64\n",
      " 5   Frozen            440 non-null    int64\n",
      " 6   Detergents_Paper  440 non-null    int64\n",
      " 7   Delicassen        440 non-null    int64\n",
      "dtypes: int64(8)\n",
      "memory usage: 27.6 KB\n"
     ]
    }
   ],
   "execution_count": 3
  },
  {
   "cell_type": "code",
   "metadata": {
    "execution": {
     "iopub.execute_input": "2025-09-08T23:13:33.687323Z",
     "iopub.status.busy": "2025-09-08T23:13:33.687238Z",
     "iopub.status.idle": "2025-09-08T23:13:33.695707Z",
     "shell.execute_reply": "2025-09-08T23:13:33.695504Z"
    },
    "ExecuteTime": {
     "end_time": "2025-09-08T23:32:02.115690Z",
     "start_time": "2025-09-08T23:32:02.097016Z"
    }
   },
   "source": [
    "print(\"Estatísticas descritivas:\")\n",
    "df.describe()"
   ],
   "id": "86401ba4ff9cfb6b",
   "outputs": [
    {
     "name": "stdout",
     "output_type": "stream",
     "text": [
      "Estatísticas descritivas:\n"
     ]
    },
    {
     "data": {
      "text/plain": [
       "          Channel      Region          Fresh          Milk       Grocery  \\\n",
       "count  440.000000  440.000000     440.000000    440.000000    440.000000   \n",
       "mean     1.322727    2.543182   12000.297727   5796.265909   7951.277273   \n",
       "std      0.468052    0.774272   12647.328865   7380.377175   9503.162829   \n",
       "min      1.000000    1.000000       3.000000     55.000000      3.000000   \n",
       "25%      1.000000    2.000000    3127.750000   1533.000000   2153.000000   \n",
       "50%      1.000000    3.000000    8504.000000   3627.000000   4755.500000   \n",
       "75%      2.000000    3.000000   16933.750000   7190.250000  10655.750000   \n",
       "max      2.000000    3.000000  112151.000000  73498.000000  92780.000000   \n",
       "\n",
       "             Frozen  Detergents_Paper    Delicassen  \n",
       "count    440.000000        440.000000    440.000000  \n",
       "mean    3071.931818       2881.493182   1524.870455  \n",
       "std     4854.673333       4767.854448   2820.105937  \n",
       "min       25.000000          3.000000      3.000000  \n",
       "25%      742.250000        256.750000    408.250000  \n",
       "50%     1526.000000        816.500000    965.500000  \n",
       "75%     3554.250000       3922.000000   1820.250000  \n",
       "max    60869.000000      40827.000000  47943.000000  "
      ],
      "text/html": [
       "<div>\n",
       "<style scoped>\n",
       "    .dataframe tbody tr th:only-of-type {\n",
       "        vertical-align: middle;\n",
       "    }\n",
       "\n",
       "    .dataframe tbody tr th {\n",
       "        vertical-align: top;\n",
       "    }\n",
       "\n",
       "    .dataframe thead th {\n",
       "        text-align: right;\n",
       "    }\n",
       "</style>\n",
       "<table border=\"1\" class=\"dataframe\">\n",
       "  <thead>\n",
       "    <tr style=\"text-align: right;\">\n",
       "      <th></th>\n",
       "      <th>Channel</th>\n",
       "      <th>Region</th>\n",
       "      <th>Fresh</th>\n",
       "      <th>Milk</th>\n",
       "      <th>Grocery</th>\n",
       "      <th>Frozen</th>\n",
       "      <th>Detergents_Paper</th>\n",
       "      <th>Delicassen</th>\n",
       "    </tr>\n",
       "  </thead>\n",
       "  <tbody>\n",
       "    <tr>\n",
       "      <th>count</th>\n",
       "      <td>440.000000</td>\n",
       "      <td>440.000000</td>\n",
       "      <td>440.000000</td>\n",
       "      <td>440.000000</td>\n",
       "      <td>440.000000</td>\n",
       "      <td>440.000000</td>\n",
       "      <td>440.000000</td>\n",
       "      <td>440.000000</td>\n",
       "    </tr>\n",
       "    <tr>\n",
       "      <th>mean</th>\n",
       "      <td>1.322727</td>\n",
       "      <td>2.543182</td>\n",
       "      <td>12000.297727</td>\n",
       "      <td>5796.265909</td>\n",
       "      <td>7951.277273</td>\n",
       "      <td>3071.931818</td>\n",
       "      <td>2881.493182</td>\n",
       "      <td>1524.870455</td>\n",
       "    </tr>\n",
       "    <tr>\n",
       "      <th>std</th>\n",
       "      <td>0.468052</td>\n",
       "      <td>0.774272</td>\n",
       "      <td>12647.328865</td>\n",
       "      <td>7380.377175</td>\n",
       "      <td>9503.162829</td>\n",
       "      <td>4854.673333</td>\n",
       "      <td>4767.854448</td>\n",
       "      <td>2820.105937</td>\n",
       "    </tr>\n",
       "    <tr>\n",
       "      <th>min</th>\n",
       "      <td>1.000000</td>\n",
       "      <td>1.000000</td>\n",
       "      <td>3.000000</td>\n",
       "      <td>55.000000</td>\n",
       "      <td>3.000000</td>\n",
       "      <td>25.000000</td>\n",
       "      <td>3.000000</td>\n",
       "      <td>3.000000</td>\n",
       "    </tr>\n",
       "    <tr>\n",
       "      <th>25%</th>\n",
       "      <td>1.000000</td>\n",
       "      <td>2.000000</td>\n",
       "      <td>3127.750000</td>\n",
       "      <td>1533.000000</td>\n",
       "      <td>2153.000000</td>\n",
       "      <td>742.250000</td>\n",
       "      <td>256.750000</td>\n",
       "      <td>408.250000</td>\n",
       "    </tr>\n",
       "    <tr>\n",
       "      <th>50%</th>\n",
       "      <td>1.000000</td>\n",
       "      <td>3.000000</td>\n",
       "      <td>8504.000000</td>\n",
       "      <td>3627.000000</td>\n",
       "      <td>4755.500000</td>\n",
       "      <td>1526.000000</td>\n",
       "      <td>816.500000</td>\n",
       "      <td>965.500000</td>\n",
       "    </tr>\n",
       "    <tr>\n",
       "      <th>75%</th>\n",
       "      <td>2.000000</td>\n",
       "      <td>3.000000</td>\n",
       "      <td>16933.750000</td>\n",
       "      <td>7190.250000</td>\n",
       "      <td>10655.750000</td>\n",
       "      <td>3554.250000</td>\n",
       "      <td>3922.000000</td>\n",
       "      <td>1820.250000</td>\n",
       "    </tr>\n",
       "    <tr>\n",
       "      <th>max</th>\n",
       "      <td>2.000000</td>\n",
       "      <td>3.000000</td>\n",
       "      <td>112151.000000</td>\n",
       "      <td>73498.000000</td>\n",
       "      <td>92780.000000</td>\n",
       "      <td>60869.000000</td>\n",
       "      <td>40827.000000</td>\n",
       "      <td>47943.000000</td>\n",
       "    </tr>\n",
       "  </tbody>\n",
       "</table>\n",
       "</div>"
      ]
     },
     "execution_count": 4,
     "metadata": {},
     "output_type": "execute_result"
    }
   ],
   "execution_count": 4
  },
  {
   "cell_type": "markdown",
   "metadata": {},
   "source": [
    "### 3. Tratamento de dados"
   ],
   "id": "a9abef7b466c29cc"
  },
  {
   "cell_type": "code",
   "metadata": {
    "execution": {
     "iopub.execute_input": "2025-09-08T23:13:33.696841Z",
     "iopub.status.busy": "2025-09-08T23:13:33.696760Z",
     "iopub.status.idle": "2025-09-08T23:13:33.699252Z",
     "shell.execute_reply": "2025-09-08T23:13:33.699062Z"
    },
    "ExecuteTime": {
     "end_time": "2025-09-08T23:32:02.249916Z",
     "start_time": "2025-09-08T23:32:02.246517Z"
    }
   },
   "source": [
    "print(f\"Dados ausentes por coluna:\")\n",
    "print(df.isnull().sum())\n",
    "\n",
    "rows_before = len(df)\n",
    "df = df.dropna()\n",
    "rows_after = len(df)\n",
    "\n",
    "print(f\"\\nLinhas removidas: {rows_before - rows_after}\")\n",
    "print(f\"Shape após remoção: {df.shape}\")"
   ],
   "id": "bc53a4fe1e2fc3f4",
   "outputs": [
    {
     "name": "stdout",
     "output_type": "stream",
     "text": [
      "Dados ausentes por coluna:\n",
      "Channel             0\n",
      "Region              0\n",
      "Fresh               0\n",
      "Milk                0\n",
      "Grocery             0\n",
      "Frozen              0\n",
      "Detergents_Paper    0\n",
      "Delicassen          0\n",
      "dtype: int64\n",
      "\n",
      "Linhas removidas: 0\n",
      "Shape após remoção: (440, 8)\n"
     ]
    }
   ],
   "execution_count": 5
  },
  {
   "cell_type": "code",
   "metadata": {
    "execution": {
     "iopub.execute_input": "2025-09-08T23:13:33.700238Z",
     "iopub.status.busy": "2025-09-08T23:13:33.700166Z",
     "iopub.status.idle": "2025-09-08T23:13:33.703835Z",
     "shell.execute_reply": "2025-09-08T23:13:33.703637Z"
    },
    "ExecuteTime": {
     "end_time": "2025-09-08T23:32:02.344055Z",
     "start_time": "2025-09-08T23:32:02.333569Z"
    }
   },
   "source": [
    "print(f\"Valores únicos em Channel antes: {df['Channel'].unique()}\")\n",
    "\n",
    "df['Channel'] = df['Channel'].map({1: 1, 2: 0})\n",
    "\n",
    "print(f\"Valores únicos em Channel depois: {df['Channel'].unique()}\")\n",
    "print(f\"\\nDistribuição da variável alvo:\")\n",
    "print(df['Channel'].value_counts())\n",
    "print(f\"\\nProporção:\")\n",
    "print(df['Channel'].value_counts(normalize=True))"
   ],
   "id": "79634d3aee03e44",
   "outputs": [
    {
     "name": "stdout",
     "output_type": "stream",
     "text": [
      "Valores únicos em Channel antes: [2 1]\n",
      "Valores únicos em Channel depois: [0 1]\n",
      "\n",
      "Distribuição da variável alvo:\n",
      "Channel\n",
      "1    298\n",
      "0    142\n",
      "Name: count, dtype: int64\n",
      "\n",
      "Proporção:\n",
      "Channel\n",
      "1    0.677273\n",
      "0    0.322727\n",
      "Name: proportion, dtype: float64\n"
     ]
    }
   ],
   "execution_count": 6
  },
  {
   "cell_type": "markdown",
   "metadata": {},
   "source": [
    "### 4. Separação em treino e teste"
   ],
   "id": "b70dce9b2b97d039"
  },
  {
   "cell_type": "code",
   "metadata": {
    "execution": {
     "iopub.execute_input": "2025-09-08T23:13:33.704874Z",
     "iopub.status.busy": "2025-09-08T23:13:33.704785Z",
     "iopub.status.idle": "2025-09-08T23:13:33.708377Z",
     "shell.execute_reply": "2025-09-08T23:13:33.708170Z"
    },
    "ExecuteTime": {
     "end_time": "2025-09-08T23:32:02.396905Z",
     "start_time": "2025-09-08T23:32:02.382102Z"
    }
   },
   "source": [
    "X = df.drop(['Channel'], axis=1)\n",
    "y = df['Channel']\n",
    "\n",
    "X_train, X_test, y_train, y_test = train_test_split(X, y, test_size=0.25, random_state=42, stratify=y)\n",
    "\n",
    "print(f\"Tamanho do conjunto de treino: {X_train.shape}\")\n",
    "print(f\"Tamanho do conjunto de teste: {X_test.shape}\")\n",
    "print(f\"\\nDistribuição da variável alvo no treino:\")\n",
    "print(y_train.value_counts(normalize=True))\n",
    "print(f\"\\nDistribuição da variável alvo no teste:\")\n",
    "print(y_test.value_counts(normalize=True))"
   ],
   "id": "93a0dc8c166c8819",
   "outputs": [
    {
     "name": "stdout",
     "output_type": "stream",
     "text": [
      "Tamanho do conjunto de treino: (330, 7)\n",
      "Tamanho do conjunto de teste: (110, 7)\n",
      "\n",
      "Distribuição da variável alvo no treino:\n",
      "Channel\n",
      "1    0.675758\n",
      "0    0.324242\n",
      "Name: proportion, dtype: float64\n",
      "\n",
      "Distribuição da variável alvo no teste:\n",
      "Channel\n",
      "1    0.681818\n",
      "0    0.318182\n",
      "Name: proportion, dtype: float64\n"
     ]
    }
   ],
   "execution_count": 7
  },
  {
   "cell_type": "markdown",
   "metadata": {},
   "source": [
    "### 5. Modelo Random Forest"
   ],
   "id": "9adede13b8d88e0d"
  },
  {
   "cell_type": "code",
   "metadata": {
    "execution": {
     "iopub.execute_input": "2025-09-08T23:13:33.709431Z",
     "iopub.status.busy": "2025-09-08T23:13:33.709367Z",
     "iopub.status.idle": "2025-09-08T23:13:33.768808Z",
     "shell.execute_reply": "2025-09-08T23:13:33.768524Z"
    },
    "ExecuteTime": {
     "end_time": "2025-09-08T23:32:02.485467Z",
     "start_time": "2025-09-08T23:32:02.405776Z"
    }
   },
   "source": [
    "rf_model = RandomForestClassifier(random_state=42)\n",
    "rf_model.fit(X_train, y_train)\n",
    "\n",
    "y_pred_rf = rf_model.predict(X_test)\n",
    "\n",
    "print(\"Random Forest - Métricas:\")\n",
    "print(f\"Acurácia: {accuracy_score(y_test, y_pred_rf):.4f}\")\n",
    "print(f\"Precision: {precision_score(y_test, y_pred_rf):.4f}\")\n",
    "print(f\"Recall: {recall_score(y_test, y_pred_rf):.4f}\")\n",
    "print(f\"F1-Score: {f1_score(y_test, y_pred_rf):.4f}\")\n",
    "print(f\"\\nMatriz de Confusão:\")\n",
    "print(confusion_matrix(y_test, y_pred_rf))"
   ],
   "id": "c6dcc98c7bd9d5f5",
   "outputs": [
    {
     "name": "stdout",
     "output_type": "stream",
     "text": [
      "Random Forest - Métricas:\n",
      "Acurácia: 0.9091\n",
      "Precision: 0.9333\n",
      "Recall: 0.9333\n",
      "F1-Score: 0.9333\n",
      "\n",
      "Matriz de Confusão:\n",
      "[[30  5]\n",
      " [ 5 70]]\n"
     ]
    }
   ],
   "execution_count": 8
  },
  {
   "cell_type": "markdown",
   "metadata": {},
   "source": [
    "### 6. Modelo XGBoost"
   ],
   "id": "8e2495a695cd0d91"
  },
  {
   "cell_type": "code",
   "metadata": {
    "execution": {
     "iopub.execute_input": "2025-09-08T23:13:33.770077Z",
     "iopub.status.busy": "2025-09-08T23:13:33.769990Z",
     "iopub.status.idle": "2025-09-08T23:13:33.898625Z",
     "shell.execute_reply": "2025-09-08T23:13:33.898392Z"
    },
    "ExecuteTime": {
     "end_time": "2025-09-08T23:32:02.643275Z",
     "start_time": "2025-09-08T23:32:02.497128Z"
    }
   },
   "source": [
    "xgb_model = xgb.XGBClassifier(random_state=42)\n",
    "xgb_model.fit(X_train, y_train)\n",
    "\n",
    "y_pred_xgb = xgb_model.predict(X_test)\n",
    "\n",
    "print(\"XGBoost - Métricas:\")\n",
    "print(f\"Acurácia: {accuracy_score(y_test, y_pred_xgb):.4f}\")\n",
    "print(f\"Precision: {precision_score(y_test, y_pred_xgb):.4f}\")\n",
    "print(f\"Recall: {recall_score(y_test, y_pred_xgb):.4f}\")\n",
    "print(f\"F1-Score: {f1_score(y_test, y_pred_xgb):.4f}\")\n",
    "print(f\"\\nMatriz de Confusão:\")\n",
    "print(confusion_matrix(y_test, y_pred_xgb))"
   ],
   "id": "3b3efe45b2125e0a",
   "outputs": [
    {
     "name": "stdout",
     "output_type": "stream",
     "text": [
      "XGBoost - Métricas:\n",
      "Acurácia: 0.9000\n",
      "Precision: 0.9211\n",
      "Recall: 0.9333\n",
      "F1-Score: 0.9272\n",
      "\n",
      "Matriz de Confusão:\n",
      "[[29  6]\n",
      " [ 5 70]]\n"
     ]
    }
   ],
   "execution_count": 9
  },
  {
   "cell_type": "markdown",
   "metadata": {},
   "source": [
    "### 7. Comparação dos modelos"
   ],
   "id": "45bcab1a5adb7237"
  },
  {
   "cell_type": "code",
   "metadata": {
    "execution": {
     "iopub.execute_input": "2025-09-08T23:13:33.899860Z",
     "iopub.status.busy": "2025-09-08T23:13:33.899785Z",
     "iopub.status.idle": "2025-09-08T23:13:33.908602Z",
     "shell.execute_reply": "2025-09-08T23:13:33.908403Z"
    },
    "ExecuteTime": {
     "end_time": "2025-09-08T23:32:02.669214Z",
     "start_time": "2025-09-08T23:32:02.657409Z"
    }
   },
   "source": [
    "comparacao = pd.DataFrame({\n",
    "    'Modelo': ['Random Forest', 'XGBoost'],\n",
    "    'Acurácia': [accuracy_score(y_test, y_pred_rf), accuracy_score(y_test, y_pred_xgb)],\n",
    "    'Precision': [precision_score(y_test, y_pred_rf), precision_score(y_test, y_pred_xgb)],\n",
    "    'Recall': [recall_score(y_test, y_pred_rf), recall_score(y_test, y_pred_xgb)],\n",
    "    'F1-Score': [f1_score(y_test, y_pred_rf), f1_score(y_test, y_pred_xgb)]\n",
    "})\n",
    "\n",
    "print(\"Comparação dos modelos:\")\n",
    "comparacao"
   ],
   "id": "1ab33d517fac4650",
   "outputs": [
    {
     "name": "stdout",
     "output_type": "stream",
     "text": [
      "Comparação dos modelos:\n"
     ]
    },
    {
     "data": {
      "text/plain": [
       "          Modelo  Acurácia  Precision    Recall  F1-Score\n",
       "0  Random Forest  0.909091   0.933333  0.933333  0.933333\n",
       "1        XGBoost  0.900000   0.921053  0.933333  0.927152"
      ],
      "text/html": [
       "<div>\n",
       "<style scoped>\n",
       "    .dataframe tbody tr th:only-of-type {\n",
       "        vertical-align: middle;\n",
       "    }\n",
       "\n",
       "    .dataframe tbody tr th {\n",
       "        vertical-align: top;\n",
       "    }\n",
       "\n",
       "    .dataframe thead th {\n",
       "        text-align: right;\n",
       "    }\n",
       "</style>\n",
       "<table border=\"1\" class=\"dataframe\">\n",
       "  <thead>\n",
       "    <tr style=\"text-align: right;\">\n",
       "      <th></th>\n",
       "      <th>Modelo</th>\n",
       "      <th>Acurácia</th>\n",
       "      <th>Precision</th>\n",
       "      <th>Recall</th>\n",
       "      <th>F1-Score</th>\n",
       "    </tr>\n",
       "  </thead>\n",
       "  <tbody>\n",
       "    <tr>\n",
       "      <th>0</th>\n",
       "      <td>Random Forest</td>\n",
       "      <td>0.909091</td>\n",
       "      <td>0.933333</td>\n",
       "      <td>0.933333</td>\n",
       "      <td>0.933333</td>\n",
       "    </tr>\n",
       "    <tr>\n",
       "      <th>1</th>\n",
       "      <td>XGBoost</td>\n",
       "      <td>0.900000</td>\n",
       "      <td>0.921053</td>\n",
       "      <td>0.933333</td>\n",
       "      <td>0.927152</td>\n",
       "    </tr>\n",
       "  </tbody>\n",
       "</table>\n",
       "</div>"
      ]
     },
     "execution_count": 10,
     "metadata": {},
     "output_type": "execute_result"
    }
   ],
   "execution_count": 10
  },
  {
   "cell_type": "markdown",
   "metadata": {},
   "source": "### 8. Conclusão\n\n**Modelo escolhido: Random Forest**\n\nCom base nos resultados obtidos, o Random Forest apresentou melhor desempenho:\n- **Random Forest**: Acurácia 90.91%, F1-Score 93.33%\n- **XGBoost**: Acurácia 90.00%, F1-Score 92.72%\n\nO Random Forest obteve resultados superiores em todas as métricas, com destaque para o F1-Score (93.33% vs 92.72%), que representa o equilíbrio entre precision e recall. A diferença de 0.91% na acurácia e 0.61% no F1-Score favorece o Random Forest para esta tarefa de classificação entre canais Horeca e Retail.",
   "id": "66aefe713624a6c6"
  }
 ],
 "metadata": {
  "kernelspec": {
   "display_name": "Python 3",
   "language": "python",
   "name": "python3"
  },
  "language_info": {
   "codemirror_mode": {
    "name": "ipython",
    "version": 3
   },
   "file_extension": ".py",
   "mimetype": "text/x-python",
   "name": "python",
   "nbconvert_exporter": "python",
   "pygments_lexer": "ipython3",
   "version": "3.13.4"
  }
 },
 "nbformat": 4,
 "nbformat_minor": 4
}
