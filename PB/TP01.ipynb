{
 "cells": [
  {
   "cell_type": "markdown",
   "id": "initial_id",
   "metadata": {
    "collapsed": true
   },
   "source": "# TP01 - Projeto de Bloco"
  },
  {
   "cell_type": "code",
   "execution_count": null,
   "id": "ib8k8z39wmi",
   "metadata": {
    "execution": {
     "iopub.execute_input": "2025-09-17T22:46:03.097786Z",
     "iopub.status.busy": "2025-09-17T22:46:03.097619Z",
     "iopub.status.idle": "2025-09-17T22:46:04.283081Z",
     "shell.execute_reply": "2025-09-17T22:46:04.282836Z"
    }
   },
   "outputs": [],
   "source": "import pandas as pd\nfrom sklearn.model_selection import train_test_split\nfrom sklearn.preprocessing import StandardScaler\nfrom sklearn.neighbors import KNeighborsClassifier\nfrom sklearn.metrics import accuracy_score\nimport matplotlib.pyplot as plt"
  },
  {
   "cell_type": "markdown",
   "id": "z4f14kvw1or",
   "metadata": {},
   "source": [
    "## 1. Carregamento de Dados\n",
    "\n",
    "Vamos carregar o dataset e identificar as features e o target."
   ]
  },
  {
   "cell_type": "code",
   "execution_count": 2,
   "id": "jvot3c5k478",
   "metadata": {
    "execution": {
     "iopub.execute_input": "2025-09-17T22:46:04.284498Z",
     "iopub.status.busy": "2025-09-17T22:46:04.284380Z",
     "iopub.status.idle": "2025-09-17T22:46:04.294115Z",
     "shell.execute_reply": "2025-09-17T22:46:04.293918Z"
    }
   },
   "outputs": [
    {
     "name": "stdout",
     "output_type": "stream",
     "text": [
      "Shape do dataset: (918, 12)\n",
      "\n",
      "Primeiras 5 linhas:\n"
     ]
    },
    {
     "data": {
      "text/html": [
       "<div>\n",
       "<style scoped>\n",
       "    .dataframe tbody tr th:only-of-type {\n",
       "        vertical-align: middle;\n",
       "    }\n",
       "\n",
       "    .dataframe tbody tr th {\n",
       "        vertical-align: top;\n",
       "    }\n",
       "\n",
       "    .dataframe thead th {\n",
       "        text-align: right;\n",
       "    }\n",
       "</style>\n",
       "<table border=\"1\" class=\"dataframe\">\n",
       "  <thead>\n",
       "    <tr style=\"text-align: right;\">\n",
       "      <th></th>\n",
       "      <th>Age</th>\n",
       "      <th>Sex</th>\n",
       "      <th>ChestPainType</th>\n",
       "      <th>RestingBP</th>\n",
       "      <th>Cholesterol</th>\n",
       "      <th>FastingBS</th>\n",
       "      <th>RestingECG</th>\n",
       "      <th>MaxHR</th>\n",
       "      <th>ExerciseAngina</th>\n",
       "      <th>Oldpeak</th>\n",
       "      <th>ST_Slope</th>\n",
       "      <th>HeartDisease</th>\n",
       "    </tr>\n",
       "  </thead>\n",
       "  <tbody>\n",
       "    <tr>\n",
       "      <th>0</th>\n",
       "      <td>40</td>\n",
       "      <td>M</td>\n",
       "      <td>ATA</td>\n",
       "      <td>140</td>\n",
       "      <td>289</td>\n",
       "      <td>0</td>\n",
       "      <td>Normal</td>\n",
       "      <td>172</td>\n",
       "      <td>N</td>\n",
       "      <td>0.0</td>\n",
       "      <td>Up</td>\n",
       "      <td>0</td>\n",
       "    </tr>\n",
       "    <tr>\n",
       "      <th>1</th>\n",
       "      <td>49</td>\n",
       "      <td>F</td>\n",
       "      <td>NAP</td>\n",
       "      <td>160</td>\n",
       "      <td>180</td>\n",
       "      <td>0</td>\n",
       "      <td>Normal</td>\n",
       "      <td>156</td>\n",
       "      <td>N</td>\n",
       "      <td>1.0</td>\n",
       "      <td>Flat</td>\n",
       "      <td>1</td>\n",
       "    </tr>\n",
       "    <tr>\n",
       "      <th>2</th>\n",
       "      <td>37</td>\n",
       "      <td>M</td>\n",
       "      <td>ATA</td>\n",
       "      <td>130</td>\n",
       "      <td>283</td>\n",
       "      <td>0</td>\n",
       "      <td>ST</td>\n",
       "      <td>98</td>\n",
       "      <td>N</td>\n",
       "      <td>0.0</td>\n",
       "      <td>Up</td>\n",
       "      <td>0</td>\n",
       "    </tr>\n",
       "    <tr>\n",
       "      <th>3</th>\n",
       "      <td>48</td>\n",
       "      <td>F</td>\n",
       "      <td>ASY</td>\n",
       "      <td>138</td>\n",
       "      <td>214</td>\n",
       "      <td>0</td>\n",
       "      <td>Normal</td>\n",
       "      <td>108</td>\n",
       "      <td>Y</td>\n",
       "      <td>1.5</td>\n",
       "      <td>Flat</td>\n",
       "      <td>1</td>\n",
       "    </tr>\n",
       "    <tr>\n",
       "      <th>4</th>\n",
       "      <td>54</td>\n",
       "      <td>M</td>\n",
       "      <td>NAP</td>\n",
       "      <td>150</td>\n",
       "      <td>195</td>\n",
       "      <td>0</td>\n",
       "      <td>Normal</td>\n",
       "      <td>122</td>\n",
       "      <td>N</td>\n",
       "      <td>0.0</td>\n",
       "      <td>Up</td>\n",
       "      <td>0</td>\n",
       "    </tr>\n",
       "  </tbody>\n",
       "</table>\n",
       "</div>"
      ],
      "text/plain": [
       "   Age Sex ChestPainType  RestingBP  Cholesterol  FastingBS RestingECG  MaxHR  \\\n",
       "0   40   M           ATA        140          289          0     Normal    172   \n",
       "1   49   F           NAP        160          180          0     Normal    156   \n",
       "2   37   M           ATA        130          283          0         ST     98   \n",
       "3   48   F           ASY        138          214          0     Normal    108   \n",
       "4   54   M           NAP        150          195          0     Normal    122   \n",
       "\n",
       "  ExerciseAngina  Oldpeak ST_Slope  HeartDisease  \n",
       "0              N      0.0       Up             0  \n",
       "1              N      1.0     Flat             1  \n",
       "2              N      0.0       Up             0  \n",
       "3              Y      1.5     Flat             1  \n",
       "4              N      0.0       Up             0  "
      ]
     },
     "execution_count": 2,
     "metadata": {},
     "output_type": "execute_result"
    }
   ],
   "source": [
    "df = pd.read_csv('heart.csv')\n",
    "print(f\"Shape do dataset: {df.shape}\")\n",
    "print(f\"\\nPrimeiras 5 linhas:\")\n",
    "df.head()"
   ]
  },
  {
   "cell_type": "code",
   "execution_count": 3,
   "id": "gyg1572b4b9",
   "metadata": {
    "execution": {
     "iopub.execute_input": "2025-09-17T22:46:04.295120Z",
     "iopub.status.busy": "2025-09-17T22:46:04.295046Z",
     "iopub.status.idle": "2025-09-17T22:46:04.296733Z",
     "shell.execute_reply": "2025-09-17T22:46:04.296546Z"
    }
   },
   "outputs": [
    {
     "name": "stdout",
     "output_type": "stream",
     "text": [
      "Colunas do dataset:\n",
      "['Age', 'Sex', 'ChestPainType', 'RestingBP', 'Cholesterol', 'FastingBS', 'RestingECG', 'MaxHR', 'ExerciseAngina', 'Oldpeak', 'ST_Slope', 'HeartDisease']\n",
      "\n",
      "Target: HeartDisease - indica se o paciente tem doença cardíaca (1) ou não (0)\n",
      "Features: todas as outras 11 colunas\n"
     ]
    }
   ],
   "source": [
    "print(\"Colunas do dataset:\")\n",
    "print(df.columns.tolist())\n",
    "print(f\"\\nTarget: HeartDisease - indica se o paciente tem doença cardíaca (1) ou não (0)\")\n",
    "print(f\"Features: todas as outras {len(df.columns)-1} colunas\")"
   ]
  },
  {
   "cell_type": "markdown",
   "id": "ngfy47digz",
   "metadata": {},
   "source": [
    "## 2. Divisão de Dados\n",
    "\n",
    "Separando os dados em 80% para treino e 20% para validação."
   ]
  },
  {
   "cell_type": "code",
   "execution_count": 4,
   "id": "b0i7djsk5ch",
   "metadata": {
    "execution": {
     "iopub.execute_input": "2025-09-17T22:46:04.297749Z",
     "iopub.status.busy": "2025-09-17T22:46:04.297669Z",
     "iopub.status.idle": "2025-09-17T22:46:04.301391Z",
     "shell.execute_reply": "2025-09-17T22:46:04.301199Z"
    }
   },
   "outputs": [
    {
     "name": "stdout",
     "output_type": "stream",
     "text": [
      "Tamanho do conjunto de treino: 734 amostras\n",
      "Tamanho do conjunto de validação: 184 amostras\n",
      "Proporção: 80.0% treino / 20.0% validação\n"
     ]
    }
   ],
   "source": [
    "X = df.drop('HeartDisease', axis=1)\n",
    "y = df['HeartDisease']\n",
    "\n",
    "X_train, X_val, y_train, y_val = train_test_split(X, y, test_size=0.2, random_state=42)\n",
    "\n",
    "print(f\"Tamanho do conjunto de treino: {X_train.shape[0]} amostras\")\n",
    "print(f\"Tamanho do conjunto de validação: {X_val.shape[0]} amostras\")\n",
    "print(f\"Proporção: {X_train.shape[0]/len(df)*100:.1f}% treino / {X_val.shape[0]/len(df)*100:.1f}% validação\")"
   ]
  },
  {
   "cell_type": "markdown",
   "id": "vbjyixeqoqk",
   "metadata": {},
   "source": [
    "## 3. Transformação de Dados\n",
    "\n",
    "Vamos padronizar as features numéricas e codificar as categóricas."
   ]
  },
  {
   "cell_type": "code",
   "execution_count": 5,
   "id": "9fm07ieo0n",
   "metadata": {
    "execution": {
     "iopub.execute_input": "2025-09-17T22:46:04.302415Z",
     "iopub.status.busy": "2025-09-17T22:46:04.302353Z",
     "iopub.status.idle": "2025-09-17T22:46:04.304379Z",
     "shell.execute_reply": "2025-09-17T22:46:04.304188Z"
    }
   },
   "outputs": [
    {
     "name": "stdout",
     "output_type": "stream",
     "text": [
      "Colunas categóricas: ['Sex', 'ChestPainType', 'RestingECG', 'ExerciseAngina', 'ST_Slope']\n",
      "Colunas numéricas: ['Age', 'RestingBP', 'Cholesterol', 'FastingBS', 'MaxHR'] ... (total: 6)\n"
     ]
    }
   ],
   "source": [
    "categorical_cols = X_train.select_dtypes(include=['object']).columns.tolist()\n",
    "numerical_cols = X_train.select_dtypes(include=['int64', 'float64']).columns.tolist()\n",
    "\n",
    "print(f\"Colunas categóricas: {categorical_cols}\")\n",
    "print(f\"Colunas numéricas: {numerical_cols[:5]} ... (total: {len(numerical_cols)})\")"
   ]
  },
  {
   "cell_type": "code",
   "execution_count": 6,
   "id": "e689cwqzzxh",
   "metadata": {
    "execution": {
     "iopub.execute_input": "2025-09-17T22:46:04.305306Z",
     "iopub.status.busy": "2025-09-17T22:46:04.305236Z",
     "iopub.status.idle": "2025-09-17T22:46:04.311173Z",
     "shell.execute_reply": "2025-09-17T22:46:04.310996Z"
    }
   },
   "outputs": [
    {
     "name": "stdout",
     "output_type": "stream",
     "text": [
      "Shape após transformação - Treino: (734, 15)\n",
      "Shape após transformação - Validação: (184, 15)\n"
     ]
    }
   ],
   "source": [
    "X_train_encoded = pd.get_dummies(X_train, columns=categorical_cols, drop_first=True)\n",
    "X_val_encoded = pd.get_dummies(X_val, columns=categorical_cols, drop_first=True)\n",
    "\n",
    "X_val_encoded = X_val_encoded.reindex(columns=X_train_encoded.columns, fill_value=0)\n",
    "\n",
    "scaler = StandardScaler()\n",
    "X_train_scaled = scaler.fit_transform(X_train_encoded)\n",
    "X_val_scaled = scaler.transform(X_val_encoded)\n",
    "\n",
    "print(f\"Shape após transformação - Treino: {X_train_scaled.shape}\")\n",
    "print(f\"Shape após transformação - Validação: {X_val_scaled.shape}\")"
   ]
  },
  {
   "cell_type": "markdown",
   "id": "9uyq4k79p6",
   "metadata": {},
   "source": [
    "## 4. Modelagem K-Nearest Neighbors (KNN)\n",
    "\n",
    "Implementando o algoritmo KNN com k=5 inicialmente."
   ]
  },
  {
   "cell_type": "code",
   "execution_count": 7,
   "id": "q44nkg42vq",
   "metadata": {
    "execution": {
     "iopub.execute_input": "2025-09-17T22:46:04.312186Z",
     "iopub.status.busy": "2025-09-17T22:46:04.312114Z",
     "iopub.status.idle": "2025-09-17T22:46:04.316420Z",
     "shell.execute_reply": "2025-09-17T22:46:04.316248Z"
    }
   },
   "outputs": [
    {
     "name": "stdout",
     "output_type": "stream",
     "text": [
      "Modelo KNN treinado com k=5\n"
     ]
    }
   ],
   "source": [
    "knn = KNeighborsClassifier(n_neighbors=5)\n",
    "knn.fit(X_train_scaled, y_train)\n",
    "\n",
    "y_pred = knn.predict(X_val_scaled)\n",
    "print(\"Modelo KNN treinado com k=5\")"
   ]
  },
  {
   "cell_type": "markdown",
   "id": "4pi63xdj0ug",
   "metadata": {},
   "source": [
    "## 5. Avaliação do Modelo\n",
    "\n",
    "Calculando a acurácia do modelo nos dados de validação."
   ]
  },
  {
   "cell_type": "code",
   "execution_count": 8,
   "id": "xcsts8vy0j",
   "metadata": {
    "execution": {
     "iopub.execute_input": "2025-09-17T22:46:04.317397Z",
     "iopub.status.busy": "2025-09-17T22:46:04.317331Z",
     "iopub.status.idle": "2025-09-17T22:46:04.319159Z",
     "shell.execute_reply": "2025-09-17T22:46:04.318969Z"
    }
   },
   "outputs": [
    {
     "name": "stdout",
     "output_type": "stream",
     "text": [
      "Acurácia do modelo KNN (k=5): 0.8533\n",
      "Isso significa que o modelo acertou 85.33% das previsões no conjunto de validação\n"
     ]
    }
   ],
   "source": [
    "accuracy = accuracy_score(y_val, y_pred)\n",
    "print(f\"Acurácia do modelo KNN (k=5): {accuracy:.4f}\")\n",
    "print(f\"Isso significa que o modelo acertou {accuracy*100:.2f}% das previsões no conjunto de validação\")"
   ]
  },
  {
   "cell_type": "markdown",
   "id": "vqbagtfeg6",
   "metadata": {},
   "source": [
    "## 6. Análise de Parâmetros\n",
    "\n",
    "Testando diferentes valores de K para encontrar o melhor resultado."
   ]
  },
  {
   "cell_type": "code",
   "execution_count": 9,
   "id": "golm3tsrfnp",
   "metadata": {
    "execution": {
     "iopub.execute_input": "2025-09-17T22:46:04.320117Z",
     "iopub.status.busy": "2025-09-17T22:46:04.320053Z",
     "iopub.status.idle": "2025-09-17T22:46:04.387927Z",
     "shell.execute_reply": "2025-09-17T22:46:04.387698Z"
    }
   },
   "outputs": [
    {
     "name": "stdout",
     "output_type": "stream",
     "text": [
      "Melhor valor de K: 23\n",
      "Melhor acurácia: 0.9022\n"
     ]
    }
   ],
   "source": [
    "k_values = range(1, 31)\n",
    "accuracies = []\n",
    "\n",
    "for k in k_values:\n",
    "    knn_temp = KNeighborsClassifier(n_neighbors=k)\n",
    "    knn_temp.fit(X_train_scaled, y_train)\n",
    "    y_pred_temp = knn_temp.predict(X_val_scaled)\n",
    "    acc = accuracy_score(y_val, y_pred_temp)\n",
    "    accuracies.append(acc)\n",
    "    \n",
    "best_k = k_values[accuracies.index(max(accuracies))]\n",
    "best_accuracy = max(accuracies)\n",
    "\n",
    "print(f\"Melhor valor de K: {best_k}\")\n",
    "print(f\"Melhor acurácia: {best_accuracy:.4f}\")"
   ]
  },
  {
   "cell_type": "code",
   "execution_count": 10,
   "id": "240o6s7tb6y",
   "metadata": {
    "execution": {
     "iopub.execute_input": "2025-09-17T22:46:04.388935Z",
     "iopub.status.busy": "2025-09-17T22:46:04.388870Z",
     "iopub.status.idle": "2025-09-17T22:46:04.475542Z",
     "shell.execute_reply": "2025-09-17T22:46:04.475329Z"
    }
   },
   "outputs": [
    {
     "data": {
      "image/png": "[encoded data removed]",
      "text/plain": [
       "<Figure size 1000x600 with 1 Axes>"
      ]
     },
     "metadata": {},
     "output_type": "display_data"
    }
   ],
   "source": [
    "plt.figure(figsize=(10, 6))\n",
    "plt.plot(k_values, accuracies, marker='o')\n",
    "plt.xlabel('Valor de K')\n",
    "plt.ylabel('Acurácia')\n",
    "plt.title('Acurácia do modelo KNN para diferentes valores de K')\n",
    "plt.grid(True)\n",
    "plt.axvline(x=best_k, color='r', linestyle='--', label=f'Melhor K={best_k}')\n",
    "plt.legend()\n",
    "plt.show()"
   ]
  },
  {
   "cell_type": "markdown",
   "id": "61oy7l73mea",
   "metadata": {},
   "source": [
    "## Conclusões\n",
    "\n",
    "A análise mostrou que o valor de K tem um impacto significativo na performance do modelo KNN. Valores muito baixos de K podem causar overfitting, enquanto valores muito altos podem resultar em underfitting. O gráfico acima ajuda a identificar o valor ótimo de K que maximiza a acurácia nos dados de validação."
   ]
  }
 ],
 "metadata": {
  "kernelspec": {
   "display_name": "Python 3",
   "language": "python",
   "name": "python3"
  },
  "language_info": {
   "codemirror_mode": {
    "name": "ipython",
    "version": 3
   },
   "file_extension": ".py",
   "mimetype": "text/x-python",
   "name": "python",
   "nbconvert_exporter": "python",
   "pygments_lexer": "ipython3",
   "version": "3.13.4"
  }
 },
 "nbformat": 4,
 "nbformat_minor": 5
}
